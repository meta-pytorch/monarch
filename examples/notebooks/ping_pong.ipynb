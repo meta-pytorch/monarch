{
    "cells": [
        {
            "cell_type": "markdown",
            "id": "eed8a43f-7b0d-4d44-81f0-f96bb6648d6f",
            "metadata": {},
            "source": [
                "# Monarch\n",
                "\n",
                "One of Monarch's more powerful features is its Actor/endpoint API, which provides a generic interface for distributed computing. In this notebook, we introduce some of the basics"
            ]
        },
        {
            "cell_type": "markdown",
            "id": "40edef57-5d29-46e1-9bf0-7d0fec90a543",
            "metadata": {},
            "source": [
                "## Hello World\n",
                "Actors are spawned in Process meshes via the `monarch.proc_mesh` API. For those familiar with distributed systems, it can be helpful to think of each Actor as a server with endpoints that can be called."
            ]
        },
        {
            "cell_type": "code",
            "execution_count": 2,
            "id": "057bdd93-f218-4192-b71c-16045ad77ffe",
            "metadata": {},
            "outputs": [
                {
                    "name": "stderr",
                    "output_type": "stream",
                    "text": [
                        "I0529 17:04:38.195836 2830017 hyperactor_mesh/src/proc_mesh/mod.rs:114] proc _128tEcETi5FK[0] rank 0: created\n",
                        "I0529 17:04:38.196293 2830017 hyperactor_mesh/src/proc_mesh/mod.rs:114] proc _128tEcETi5FK[1] rank 1: created\n",
                        "I0529 17:04:38.196709 2830017 hyperactor_mesh/src/proc_mesh/mod.rs:114] proc _128tEcETi5FK[2] rank 2: created\n",
                        "I0529 17:04:38.197093 2830017 hyperactor_mesh/src/proc_mesh/mod.rs:114] proc _128tEcETi5FK[3] rank 3: created\n",
                        "I0529 17:04:39.233129 2830017 hyperactor_mesh/src/proc_mesh/mod.rs:133] proc _128tEcETi5FK[1] rank 1: running at addr:unix!@choXYEwnmQspRu9iZUgKvF6Q mesh_agent:_128tEcETi5FK[1].mesh[0]<hyperactor_mesh::proc_mesh::mesh_agent::MeshAgent>\n",
                        "I0529 17:04:39.234619 2830017 hyperactor_mesh/src/proc_mesh/mod.rs:133] proc _128tEcETi5FK[3] rank 3: running at addr:unix!@aztljBHYamc5fQB8oKyUptrm mesh_agent:_128tEcETi5FK[3].mesh[0]<hyperactor_mesh::proc_mesh::mesh_agent::MeshAgent>\n",
                        "I0529 17:04:39.238444 2830017 hyperactor_mesh/src/proc_mesh/mod.rs:133] proc _128tEcETi5FK[2] rank 2: running at addr:unix!@8qAmI2Ex2gj3sUNjfm4RkaL3 mesh_agent:_128tEcETi5FK[2].mesh[0]<hyperactor_mesh::proc_mesh::mesh_agent::MeshAgent>\n",
                        "I0529 17:04:39.238497 2830017 hyperactor_mesh/src/proc_mesh/mod.rs:133] proc _128tEcETi5FK[0] rank 0: running at addr:unix!@yXDQEYcGLQnPmb8Un5FX8rpY mesh_agent:_128tEcETi5FK[0].mesh[0]<hyperactor_mesh::proc_mesh::mesh_agent::MeshAgent>\n"
                    ]
                }
            ],
            "source": [
                "import asyncio\n",
                "\n",
                "from monarch.proc_mesh import proc_mesh, ProcMesh\n",
                "from monarch.actor_mesh import Actor, endpoint, current_rank\n",
                "\n",
                "NUM_ACTORS=4\n",
                "\n",
                "class ToyActor(Actor):\n",
                "    def __init__(self):\n",
                "        self.rank = current_rank().rank\n",
                "    \n",
                "    @endpoint\n",
                "    async def hello_world(self, msg):\n",
                "        print(f\"Identity: {self.rank}, {msg=}\")        \n",
                "\n",
                "# Note: Meshes can be also be created on different nodes, but we're ignoring that in this example\n",
                "local_proc_mesh = await proc_mesh(gpus=NUM_ACTORS)\n",
                "# This spawns 4 instances of 'ToyActor'\n",
                "toy_actor = await local_proc_mesh.spawn(\"toy_actor\", ToyActor) "
            ]
        },
        {
            "cell_type": "code",
            "execution_count": 5,
            "id": "53bfe107-b4d9-4e33-80b2-dbea14cc4df2",
            "metadata": {},
            "outputs": [
                {
                    "name": "stdout",
                    "output_type": "stream",
                    "text": [
                        "Identity: 3, msg='hey there, from jupyter!!'\n",
                        "Identity: 2, msg='hey there, from jupyter!!'\n",
                        "Identity: 0, msg='hey there, from jupyter!!'\n",
                        "Identity: 1, msg='hey there, from jupyter!!'\n"
                    ]
                },
                {
                    "data": {
                        "text/plain": [
                            "<monarch.service.ValueMesh at 0x7f98a012b850>"
                        ]
                    },
                    "execution_count": 5,
                    "metadata": {},
                    "output_type": "execute_result"
                }
            ],
            "source": [
                "# Once actors are spawned, we can call all of them simultaneously with `Actor.endpoint.call` as below\n",
                "await toy_actor.hello_world.call(\"hey there, from jupyter!!\")"
            ]
        },
        {
            "cell_type": "code",
            "execution_count": 6,
            "id": "a1327cdd-45c6-423b-a05c-e0565555109a",
            "metadata": {},
            "outputs": [
                {
                    "name": "stdout",
                    "output_type": "stream",
                    "text": [
                        "Identity: 0, msg=\"Here's an arbitrary unique value: 0\"\n",
                        "Identity: 0, msg=\"Here's an arbitrary unique value: 1\"\n",
                        "Identity: 0, msg=\"Here's an arbitrary unique value: 2\"\n",
                        "Identity: 0, msg=\"Here's an arbitrary unique value: 3\"\n"
                    ]
                },
                {
                    "data": {
                        "text/plain": [
                            "[<monarch.service.ValueMesh at 0x7f98a012b8e0>,\n",
                            " <monarch.service.ValueMesh at 0x7f9863baeb60>,\n",
                            " <monarch.service.ValueMesh at 0x7f988af23280>,\n",
                            " <monarch.service.ValueMesh at 0x7f98a012b310>]"
                        ]
                    },
                    "execution_count": 6,
                    "metadata": {},
                    "output_type": "execute_result"
                }
            ],
            "source": [
                "# We can also specify a single actor using the 'slice' API\n",
                "futures = []\n",
                "for idx in range(NUM_ACTORS):\n",
                "    actor_instance = toy_actor.slice(gpus=idx)\n",
                "    futures.append(actor_instance.hello_world.call_one(f\"Here's an arbitrary unique value: {idx}\"))\n",
                "\n",
                "# conveniently, we can still schedule & gather them in parallel using asyncio\n",
                "await asyncio.gather(*futures)"
            ]
        },
        {
            "cell_type": "markdown",
            "id": "b1c727fe-1330-4a12-adeb-82a126397e8e",
            "metadata": {},
            "source": [
                "## Ping Pong\n",
                "Not only is it possible to call endpoints froma 'main' fuction, but actors have the useful property of being able to communicate with one another. "
            ]
        },
        {
            "cell_type": "code",
            "execution_count": 20,
            "id": "2c9d37c7-e6d9-452d-bde0-589b8757c9e8",
            "metadata": {},
            "outputs": [
                {
                    "name": "stderr",
                    "output_type": "stream",
                    "text": [
                        "I0529 17:05:37.904476 2830017 hyperactor_mesh/src/proc_mesh/mod.rs:114] proc _14wENoic4WQM[0] rank 0: created\n",
                        "I0529 17:05:37.904983 2830017 hyperactor_mesh/src/proc_mesh/mod.rs:114] proc _14wENoic4WQM[1] rank 1: created\n",
                        "I0529 17:05:39.065343 2830017 hyperactor_mesh/src/proc_mesh/mod.rs:133] proc _14wENoic4WQM[0] rank 0: running at addr:unix!@tjxHFPUc2tv5w8RYZDOjVTFN mesh_agent:_14wENoic4WQM[0].mesh[0]<hyperactor_mesh::proc_mesh::mesh_agent::MeshAgent>\n",
                        "I0529 17:05:39.070276 2830017 hyperactor_mesh/src/proc_mesh/mod.rs:133] proc _14wENoic4WQM[1] rank 1: running at addr:unix!@yHbPlBV7H43hbCq73DsCoPTQ mesh_agent:_14wENoic4WQM[1].mesh[0]<hyperactor_mesh::proc_mesh::mesh_agent::MeshAgent>\n",
                        "I0529 17:05:39.289522 2830017 hyperactor_mesh/src/proc_mesh/mod.rs:114] proc _1xtVcyVB4hVH[0] rank 0: created\n",
                        "I0529 17:05:39.290061 2830017 hyperactor_mesh/src/proc_mesh/mod.rs:114] proc _1xtVcyVB4hVH[1] rank 1: created\n",
                        "I0529 17:05:40.331259 2830017 hyperactor_mesh/src/proc_mesh/mod.rs:133] proc _1xtVcyVB4hVH[1] rank 1: running at addr:unix!@I3py42AbzUiSqiEEijRbDzjC mesh_agent:_1xtVcyVB4hVH[1].mesh[0]<hyperactor_mesh::proc_mesh::mesh_agent::MeshAgent>\n",
                        "I0529 17:05:40.339197 2830017 hyperactor_mesh/src/proc_mesh/mod.rs:133] proc _1xtVcyVB4hVH[0] rank 0: running at addr:unix!@xXjtJso3xmY5X2gXQ64Ey0fZ mesh_agent:_1xtVcyVB4hVH[0].mesh[0]<hyperactor_mesh::proc_mesh::mesh_agent::MeshAgent>\n"
                    ]
                }
            ],
            "source": [
                "import asyncio\n",
                "\n",
                "from monarch.proc_mesh import proc_mesh, ProcMesh\n",
                "from monarch.actor_mesh import Actor, endpoint, current_rank\n",
                "\n",
                "class ExampleActor(Actor):\n",
                "    def __init__(self, actor_name):\n",
                "        self.actor_name=actor_name\n",
                "    \n",
                "    @endpoint\n",
                "    async def init(self, other_actor):\n",
                "        self.other_actor = other_actor\n",
                "        self.other_actor_pair = other_actor.slice(**current_rank())\n",
                "        self.identity = current_rank().rank\n",
                "    \n",
                "    @endpoint\n",
                "    async def send(self, msg):\n",
                "         await self.other_actor_pair.recv.call(f\"Sender ({self.actor_name}:{self.identity}) {msg=}\")\n",
                "        \n",
                "    @endpoint\n",
                "    async def recv(self, msg):\n",
                "        print(f\"Pong!, Receiver ({self.actor_name}:{self.identity}) received msg {msg}\")\n",
                "\n",
                "# Spawn two different Actors in different meshes, with two instances each\n",
                "local_mesh_0 = await proc_mesh(gpus=2)\n",
                "actor_0 = await local_mesh_0.spawn(\n",
                "    \"actor_0\",\n",
                "    ExampleActor,\n",
                "    \"actor_0\"     # this arg is passed to ExampleActor.__init__\n",
                ") \n",
                "\n",
                "local_mesh_1 = await proc_mesh(gpus=2)\n",
                "actor_1 = await local_mesh_1.spawn(\n",
                "    \"actor_1\",\n",
                "    ExampleActor,\n",
                "    \"actor_1\"     # this arg is passed to ExampleActor.__init__\n",
                ") "
            ]
        },
        {
            "cell_type": "code",
            "execution_count": 25,
            "id": "9b1fcb84-83b2-4465-9ff4-141e5b0c4a16",
            "metadata": {},
            "outputs": [
                {
                    "data": {
                        "text/plain": [
                            "[<monarch.service.ValueMesh at 0x7f936a64b220>,\n",
                            " <monarch.service.ValueMesh at 0x7f936a64a8f0>]"
                        ]
                    },
                    "execution_count": 25,
                    "metadata": {},
                    "output_type": "execute_result"
                }
            ],
            "source": [
                "# Initialize each actor with references to each other\n",
                "await asyncio.gather(\n",
                "    actor_0.init.call(actor_1),\n",
                "    actor_1.init.call(actor_0),\n",
                ")"
            ]
        },
        {
            "cell_type": "code",
            "execution_count": 26,
            "id": "1f44a9fb-9ba4-44cd-af29-e32e3a4c7c65",
            "metadata": {},
            "outputs": [
                {
                    "name": "stdout",
                    "output_type": "stream",
                    "text": [
                        "Pong!, Receiver (actor_1:0) received msg Sender (actor_0:0) msg='Ping'\n",
                        "Pong!, Receiver (actor_1:1) received msg Sender (actor_0:1) msg='Ping'\n"
                    ]
                },
                {
                    "data": {
                        "text/plain": [
                            "<monarch.service.ValueMesh at 0x7f988af22560>"
                        ]
                    },
                    "execution_count": 26,
                    "metadata": {},
                    "output_type": "execute_result"
                }
            ],
            "source": [
                "await actor_0.send.call(\"Ping\")"
            ]
        },
        {
            "cell_type": "code",
            "execution_count": 27,
            "id": "282b36b6-9348-48a0-92f5-f29d3401009d",
            "metadata": {},
            "outputs": [
                {
                    "name": "stdout",
                    "output_type": "stream",
                    "text": [
                        "Pong!, Receiver (actor_0:0) received msg Sender (actor_1:0) msg='Ping'\n",
                        "Pong!, Receiver (actor_0:1) received msg Sender (actor_1:1) msg='Ping'\n"
                    ]
                },
                {
                    "data": {
                        "text/plain": [
                            "<monarch.service.ValueMesh at 0x7f936a6497b0>"
                        ]
                    },
                    "execution_count": 27,
                    "metadata": {},
                    "output_type": "execute_result"
                }
            ],
            "source": [
                "await actor_1.send.call(\"Ping\")"
            ]
        }
    ],
    "metadata": {
        "kernelspec": {
            "display_name": "Python 3 (ipykernel)",
            "language": "python",
            "name": "python3"
        },
        "language_info": {
            "codemirror_mode": {
                "name": "ipython",
                "version": 3
            },
            "file_extension": ".py",
            "mimetype": "text/x-python",
            "name": "python",
            "nbconvert_exporter": "python",
            "pygments_lexer": "ipython3",
            "version": "3.10.16"
        }
    },
    "nbformat": 4,
    "nbformat_minor": 5
}
