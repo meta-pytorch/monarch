{
  "cells": [
    {
      "cell_type": "code",
      "execution_count": 1188,
      "metadata": {},
      "outputs": [],
      "source": [
        "from pathlib import Path\n",
        "\n",
        "import pandas as pd"
      ]
    },
    {
      "cell_type": "code",
      "execution_count": 1189,
      "metadata": {
        "output": {
          "id": 2175171716301936,
          "loadingStatus": "loaded"
        }
      },
      "outputs": [
        {
          "name": "stdout",
          "output_type": "stream",
          "text": [
            "/tmp/actor_mesh_benchmark/d47ab06074d4.csv\n",
            "/tmp/actor_mesh_benchmark/83ef35e1bd39.csv\n",
            "/tmp/actor_mesh_benchmark/34d5605c7607.csv\n",
            "/tmp/actor_mesh_benchmark/678349f91d72.csv\n",
            "/tmp/actor_mesh_benchmark/b270761e9a45+.csv\n"
          ]
        },
        {
          "data": {
            "text/html": [
              "<div>\n",
              "<style scoped>\n",
              "    .dataframe tbody tr th:only-of-type {\n",
              "        vertical-align: middle;\n",
              "    }\n",
              "\n",
              "    .dataframe tbody tr th {\n",
              "        vertical-align: top;\n",
              "    }\n",
              "\n",
              "    .dataframe thead th {\n",
              "        text-align: right;\n",
              "    }\n",
              "</style>\n",
              "<table border=\"1\" class=\"dataframe\">\n",
              "  <thead>\n",
              "    <tr style=\"text-align: right;\">\n",
              "      <th></th>\n",
              "      <th>test_name</th>\n",
              "      <th>rev</th>\n",
              "      <th>rev_name</th>\n",
              "      <th>hosts</th>\n",
              "      <th>gpus</th>\n",
              "      <th>message_size</th>\n",
              "      <th>bytes</th>\n",
              "      <th>casts</th>\n",
              "      <th>messages</th>\n",
              "      <th>total_test_duration_us</th>\n",
              "      <th>total_test_iterations</th>\n",
              "      <th>avg_duration_us</th>\n",
              "      <th>min_duration_us</th>\n",
              "      <th>max_duration_us</th>\n",
              "      <th>stddev_duration_us</th>\n",
              "    </tr>\n",
              "  </thead>\n",
              "  <tbody>\n",
              "    <tr>\n",
              "      <th>0</th>\n",
              "      <td>ActorScaling</td>\n",
              "      <td>d47ab06074d4</td>\n",
              "      <td>[monarch] Small refa</td>\n",
              "      <td>1</td>\n",
              "      <td>1</td>\n",
              "      <td>10</td>\n",
              "      <td>40470.0</td>\n",
              "      <td>4047.0</td>\n",
              "      <td>4047.0</td>\n",
              "      <td>3.004358e+06</td>\n",
              "      <td>4046</td>\n",
              "      <td>742.550113</td>\n",
              "      <td>564.931892</td>\n",
              "      <td>4591.648001</td>\n",
              "      <td>62.697749</td>\n",
              "    </tr>\n",
              "    <tr>\n",
              "      <th>1</th>\n",
              "      <td>ActorScalingMultipart</td>\n",
              "      <td>d47ab06074d4</td>\n",
              "      <td>[monarch] Small refa</td>\n",
              "      <td>1</td>\n",
              "      <td>1</td>\n",
              "      <td>10</td>\n",
              "      <td>41250.0</td>\n",
              "      <td>4125.0</td>\n",
              "      <td>4125.0</td>\n",
              "      <td>3.059318e+06</td>\n",
              "      <td>4124</td>\n",
              "      <td>741.832634</td>\n",
              "      <td>609.939918</td>\n",
              "      <td>3722.568974</td>\n",
              "      <td>54.503967</td>\n",
              "    </tr>\n",
              "    <tr>\n",
              "      <th>2</th>\n",
              "      <td>ActorScaling</td>\n",
              "      <td>d47ab06074d4</td>\n",
              "      <td>[monarch] Small refa</td>\n",
              "      <td>1</td>\n",
              "      <td>1</td>\n",
              "      <td>100</td>\n",
              "      <td>412300.0</td>\n",
              "      <td>4123.0</td>\n",
              "      <td>4123.0</td>\n",
              "      <td>3.010706e+06</td>\n",
              "      <td>4122</td>\n",
              "      <td>730.399309</td>\n",
              "      <td>587.394927</td>\n",
              "      <td>3103.805706</td>\n",
              "      <td>50.538460</td>\n",
              "    </tr>\n",
              "    <tr>\n",
              "      <th>3</th>\n",
              "      <td>ActorScalingMultipart</td>\n",
              "      <td>d47ab06074d4</td>\n",
              "      <td>[monarch] Small refa</td>\n",
              "      <td>1</td>\n",
              "      <td>1</td>\n",
              "      <td>100</td>\n",
              "      <td>479800.0</td>\n",
              "      <td>4798.0</td>\n",
              "      <td>4798.0</td>\n",
              "      <td>3.551600e+06</td>\n",
              "      <td>4797</td>\n",
              "      <td>740.379352</td>\n",
              "      <td>593.344215</td>\n",
              "      <td>3040.631767</td>\n",
              "      <td>48.266389</td>\n",
              "    </tr>\n",
              "    <tr>\n",
              "      <th>4</th>\n",
              "      <td>ActorScaling</td>\n",
              "      <td>d47ab06074d4</td>\n",
              "      <td>[monarch] Small refa</td>\n",
              "      <td>1</td>\n",
              "      <td>1</td>\n",
              "      <td>1000</td>\n",
              "      <td>4502000.0</td>\n",
              "      <td>4502.0</td>\n",
              "      <td>4502.0</td>\n",
              "      <td>3.270353e+06</td>\n",
              "      <td>4501</td>\n",
              "      <td>726.583730</td>\n",
              "      <td>588.917173</td>\n",
              "      <td>3181.774169</td>\n",
              "      <td>49.756583</td>\n",
              "    </tr>\n",
              "  </tbody>\n",
              "</table>\n",
              "</div>"
            ],
            "text/plain": [
              "               test_name           rev  ... max_duration_us  stddev_duration_us\n",
              "0           ActorScaling  d47ab06074d4  ...     4591.648001           62.697749\n",
              "1  ActorScalingMultipart  d47ab06074d4  ...     3722.568974           54.503967\n",
              "2           ActorScaling  d47ab06074d4  ...     3103.805706           50.538460\n",
              "3  ActorScalingMultipart  d47ab06074d4  ...     3040.631767           48.266389\n",
              "4           ActorScaling  d47ab06074d4  ...     3181.774169           49.756583\n",
              "\n",
              "[5 rows x 15 columns]"
            ]
          },
          "execution_count": 897,
          "metadata": {},
          "output_type": "execute_result"
        }
      ],
      "source": [
        "raw = None\n",
        "for name in Path(\"/tmp/actor_mesh_benchmark/\").glob(\"*.csv\"):\n",
        "    print(name)\n",
        "    if raw is None:\n",
        "        raw = pd.read_csv(name)\n",
        "    else:\n",
        "        raw = pd.concat([raw, pd.read_csv(name)])\n",
        "\n",
        "raw.head()"
      ]
    },
    {
      "cell_type": "code",
      "execution_count": 1190,
      "metadata": {},
      "outputs": [],
      "source": []
    },
    {
      "cell_type": "code",
      "execution_count": 1191,
      "metadata": {},
      "outputs": [],
      "source": [
        "raw[\"bps\"] = raw[\"bytes\"] / (raw[\"total_test_duration_us\"] / 1_000_000)\n",
        "raw[\"mps\"] = raw[\"messages\"] / (raw[\"total_test_duration_us\"] / 1_000_000)\n",
        "raw[\"cps\"] = raw[\"casts\"] / (raw[\"total_test_duration_us\"] / 1_000_000)\n",
        "raw[\"test_id\"] = raw[\"test_name\"] + \"_\" + raw[\"rev_name\"] + \"_\" + raw[\"rev\"]"
      ]
    },
    {
      "cell_type": "code",
      "execution_count": 1192,
      "metadata": {},
      "outputs": [],
      "source": [
        "import plotly.express as px"
      ]
    },
    {
      "cell_type": "code",
      "execution_count": 1193,
      "metadata": {
        "output": {
          "id": 755109670647653,
          "loadingStatus": "loaded"
        }
      },
      "outputs": [
        {
          "data": {
            "application/vnd.plotly.v1+json": {
              "config": {
                "plotlyServerURL": "https://plot.ly"
              },
              "data": [
                {
                  "hovertemplate": "test_id=ActorScaling_[monarch] Small refa_d47ab06074d4<br>gpus=1<br>message_size=%{x}<br>cps=%{y}<extra></extra>",
                  "legendgroup": "ActorScaling_[monarch] Small refa_d47ab06074d4",
                  "line": {
                    "color": "#636efa",
                    "dash": "solid"
                  },
                  "marker": {
                    "symbol": "circle"
                  },
                  "mode": "lines",
                  "name": "ActorScaling_[monarch] Small refa_d47ab06074d4",
                  "orientation": "v",
                  "showlegend": true,
                  "type": "scatter",
                  "x": [
                    10,
                    100,
                    1000,
                    10000,
                    100000,
                    1000000,
                    10000000,
                    100000000
                  ],
                  "xaxis": "x",
                  "y": [
                    1347.0433041829422,
                    1369.4462588484423,
                    1376.6096481762308,
                    1367.9193707814318,
                    948.2636673936464,
                    317.1593159324243,
                    30.17179365001215,
                    6.15574468285006
                  ],
                  "yaxis": "y"
                },
                {
                  "hovertemplate": "test_id=ActorScalingMultipart_[monarch] Small refa_d47ab06074d4<br>gpus=1<br>message_size=%{x}<br>cps=%{y}<extra></extra>",
                  "legendgroup": "ActorScalingMultipart_[monarch] Small refa_d47ab06074d4",
                  "line": {
                    "color": "#EF553B",
                    "dash": "solid"
                  },
                  "marker": {
                    "symbol": "circle"
                  },
                  "mode": "lines",
                  "name": "ActorScalingMultipart_[monarch] Small refa_d47ab06074d4",
                  "orientation": "v",
                  "showlegend": true,
                  "type": "scatter",
                  "x": [
                    10,
                    100,
                    1000,
                    10000,
                    100000,
                    1000000,
                    10000000,
                    100000000
                  ],
                  "xaxis": "x",
                  "y": [
                    1348.339823854618,
                    1350.9405151373287,
                    1352.2386911364385,
                    1299.7124600452573,
                    978.5555238793634,
                    316.55299883449203,
                    36.03574469355577,
                    7.873147169862204
                  ],
                  "yaxis": "y"
                },
                {
                  "hovertemplate": "test_id=ActorScaling_[monarch] Use SmolSt_83ef35e1bd39<br>gpus=1<br>message_size=%{x}<br>cps=%{y}<extra></extra>",
                  "legendgroup": "ActorScaling_[monarch] Use SmolSt_83ef35e1bd39",
                  "line": {
                    "color": "#00cc96",
                    "dash": "solid"
                  },
                  "marker": {
                    "symbol": "circle"
                  },
                  "mode": "lines",
                  "name": "ActorScaling_[monarch] Use SmolSt_83ef35e1bd39",
                  "orientation": "v",
                  "showlegend": true,
                  "type": "scatter",
                  "x": [
                    10,
                    100,
                    1000,
                    10000,
                    100000,
                    1000000,
                    10000000,
                    100000000
                  ],
                  "xaxis": "x",
                  "y": [
                    1534.8612299436847,
                    1479.2641232185413,
                    1529.0854000636696,
                    1513.3923909950436,
                    1042.1947718306037,
                    308.3000287691036,
                    37.35371066833349,
                    6.090955152944596
                  ],
                  "yaxis": "y"
                },
                {
                  "hovertemplate": "test_id=ActorScalingMultipart_[monarch] Use SmolSt_83ef35e1bd39<br>gpus=1<br>message_size=%{x}<br>cps=%{y}<extra></extra>",
                  "legendgroup": "ActorScalingMultipart_[monarch] Use SmolSt_83ef35e1bd39",
                  "line": {
                    "color": "#ab63fa",
                    "dash": "solid"
                  },
                  "marker": {
                    "symbol": "circle"
                  },
                  "mode": "lines",
                  "name": "ActorScalingMultipart_[monarch] Use SmolSt_83ef35e1bd39",
                  "orientation": "v",
                  "showlegend": true,
                  "type": "scatter",
                  "x": [
                    10,
                    100,
                    1000,
                    10000,
                    100000,
                    1000000,
                    10000000,
                    100000000
                  ],
                  "xaxis": "x",
                  "y": [
                    1492.8935700192762,
                    1480.710271489207,
                    1490.8794591231942,
                    1411.2544549089919,
                    1100.4912361245479,
                    337.37058896384485,
                    36.284171541173045,
                    7.565891972636406
                  ],
                  "yaxis": "y"
                },
                {
                  "hovertemplate": "test_id=ActorScaling_[monarch] Use consta_34d5605c7607<br>gpus=1<br>message_size=%{x}<br>cps=%{y}<extra></extra>",
                  "legendgroup": "ActorScaling_[monarch] Use consta_34d5605c7607",
                  "line": {
                    "color": "#FFA15A",
                    "dash": "solid"
                  },
                  "marker": {
                    "symbol": "circle"
                  },
                  "mode": "lines",
                  "name": "ActorScaling_[monarch] Use consta_34d5605c7607",
                  "orientation": "v",
                  "showlegend": true,
                  "type": "scatter",
                  "x": [
                    10,
                    100,
                    1000,
                    10000,
                    100000,
                    1000000,
                    10000000,
                    100000000
                  ],
                  "xaxis": "x",
                  "y": [
                    1513.9621282442,
                    1528.7280880985002,
                    1553.6114281662196,
                    1461.9742794257004,
                    1011.3894720473169,
                    306.2283928317391,
                    30.41811635455945,
                    6.335378001152502
                  ],
                  "yaxis": "y"
                },
                {
                  "hovertemplate": "test_id=ActorScalingMultipart_[monarch] Use consta_34d5605c7607<br>gpus=1<br>message_size=%{x}<br>cps=%{y}<extra></extra>",
                  "legendgroup": "ActorScalingMultipart_[monarch] Use consta_34d5605c7607",
                  "line": {
                    "color": "#19d3f3",
                    "dash": "solid"
                  },
                  "marker": {
                    "symbol": "circle"
                  },
                  "mode": "lines",
                  "name": "ActorScalingMultipart_[monarch] Use consta_34d5605c7607",
                  "orientation": "v",
                  "showlegend": true,
                  "type": "scatter",
                  "x": [
                    10,
                    100,
                    1000,
                    10000,
                    100000,
                    1000000,
                    10000000,
                    100000000
                  ],
                  "xaxis": "x",
                  "y": [
                    1487.0589176431952,
                    1487.7606190184008,
                    1508.726347943363,
                    1475.7212393032144,
                    1059.738326902253,
                    318.14811019002667,
                    36.02364372318724,
                    7.237813625518719
                  ],
                  "yaxis": "y"
                },
                {
                  "hovertemplate": "test_id=ActorScaling_[monarch] Make rust _678349f91d72<br>gpus=1<br>message_size=%{x}<br>cps=%{y}<extra></extra>",
                  "legendgroup": "ActorScaling_[monarch] Make rust _678349f91d72",
                  "line": {
                    "color": "#FF6692",
                    "dash": "solid"
                  },
                  "marker": {
                    "symbol": "circle"
                  },
                  "mode": "lines",
                  "name": "ActorScaling_[monarch] Make rust _678349f91d72",
                  "orientation": "v",
                  "showlegend": true,
                  "type": "scatter",
                  "x": [
                    10,
                    100,
                    1000,
                    10000,
                    100000,
                    1000000,
                    10000000,
                    100000000
                  ],
                  "xaxis": "x",
                  "y": [
                    1502.2555905181432,
                    1498.7659748914828,
                    1526.026626981732,
                    1451.2553113333136,
                    1055.444428943016,
                    327.25141824760084,
                    46.96143729626789,
                    7.3964925341988925
                  ],
                  "yaxis": "y"
                },
                {
                  "hovertemplate": "test_id=ActorScalingMultipart_[monarch] Make rust _678349f91d72<br>gpus=1<br>message_size=%{x}<br>cps=%{y}<extra></extra>",
                  "legendgroup": "ActorScalingMultipart_[monarch] Make rust _678349f91d72",
                  "line": {
                    "color": "#B6E880",
                    "dash": "solid"
                  },
                  "marker": {
                    "symbol": "circle"
                  },
                  "mode": "lines",
                  "name": "ActorScalingMultipart_[monarch] Make rust _678349f91d72",
                  "orientation": "v",
                  "showlegend": true,
                  "type": "scatter",
                  "x": [
                    10,
                    100,
                    1000,
                    10000,
                    100000,
                    1000000,
                    10000000,
                    100000000
                  ],
                  "xaxis": "x",
                  "y": [
                    1514.0877004018482,
                    1488.1054782771407,
                    1470.2780642110934,
                    1412.7586073296964,
                    1093.8574402001302,
                    390.8350221265786,
                    50.44912022235868,
                    11.743606622426812
                  ],
                  "yaxis": "y"
                },
                {
                  "hovertemplate": "test_id=ActorScaling_Temporary Commit at _b270761e9a45+<br>gpus=1<br>message_size=%{x}<br>cps=%{y}<extra></extra>",
                  "legendgroup": "ActorScaling_Temporary Commit at _b270761e9a45+",
                  "line": {
                    "color": "#FF97FF",
                    "dash": "solid"
                  },
                  "marker": {
                    "symbol": "circle"
                  },
                  "mode": "lines",
                  "name": "ActorScaling_Temporary Commit at _b270761e9a45+",
                  "orientation": "v",
                  "showlegend": true,
                  "type": "scatter",
                  "x": [
                    10,
                    100,
                    1000,
                    10000,
                    100000,
                    1000000,
                    10000000,
                    100000000,
                    10,
                    100,
                    1000,
                    10000,
                    100000,
                    1000000,
                    10000000,
                    100000000,
                    10,
                    100,
                    1000,
                    10000,
                    100000,
                    1000000,
                    10000000,
                    100000000,
                    10,
                    100,
                    1000,
                    10,
                    100,
                    1000,
                    10000,
                    100000,
                    1000000,
                    10000000,
                    100000000,
                    10,
                    100,
                    1000,
                    10000,
                    100000,
                    1000000,
                    10000000,
                    100000000,
                    10,
                    10000000,
                    100000000,
                    10000000,
                    100000000
                  ],
                  "xaxis": "x",
                  "y": [
                    1452.6867351387457,
                    1541.9851150746792,
                    1497.1126033965265,
                    1470.8040741685927,
                    1081.3797215830132,
                    336.60518725108903,
                    38.5054314751382,
                    6.819241091056631,
                    1459.9793283253568,
                    1496.9102127082983,
                    1518.1277242067158,
                    1432.2844800815778,
                    1034.3618414723298,
                    333.0549454185431,
                    37.950424218592325,
                    7.039762397259154,
                    1421.351771764627,
                    1553.652249213531,
                    1531.189878228949,
                    1451.6460786937291,
                    1076.7047614626465,
                    352.0955245146797,
                    40.13987282434994,
                    6.767805298072529,
                    1492.5233046872443,
                    1481.495720764382,
                    1508.6094862677376,
                    1491.7458542823474,
                    1377.9529473297741,
                    1493.284850902287,
                    1435.0842882101988,
                    1058.9187885978886,
                    332.1242699222157,
                    38.59897425239187,
                    6.840759413324928,
                    1455.7138580347375,
                    1501.9129864641714,
                    1500.6668988592667,
                    1452.8872898351829,
                    1077.3949122240272,
                    327.6534789430851,
                    42.05244051151247,
                    6.762779388457606,
                    1512.0856882689789,
                    42.178077930942976,
                    7.066856734049654,
                    39.23207487008469,
                    6.841157802937866
                  ],
                  "yaxis": "y"
                },
                {
                  "hovertemplate": "test_id=ActorScalingMultipart_Temporary Commit at _b270761e9a45+<br>gpus=1<br>message_size=%{x}<br>cps=%{y}<extra></extra>",
                  "legendgroup": "ActorScalingMultipart_Temporary Commit at _b270761e9a45+",
                  "line": {
                    "color": "#FECB52",
                    "dash": "solid"
                  },
                  "marker": {
                    "symbol": "circle"
                  },
                  "mode": "lines",
                  "name": "ActorScalingMultipart_Temporary Commit at _b270761e9a45+",
                  "orientation": "v",
                  "showlegend": true,
                  "type": "scatter",
                  "x": [
                    10,
                    100,
                    1000,
                    10000,
                    100000,
                    1000000,
                    10000000,
                    100000000,
                    10,
                    100,
                    1000,
                    10000,
                    100000,
                    1000000,
                    10000000,
                    100000000,
                    10,
                    100,
                    1000,
                    10000,
                    100000,
                    1000000,
                    10000000,
                    100000000,
                    10,
                    100,
                    10,
                    100,
                    1000,
                    10000,
                    100000,
                    1000000,
                    10000000,
                    100000000,
                    10,
                    100,
                    1000,
                    10000,
                    100000,
                    1000000,
                    10000000,
                    100000000,
                    10000000,
                    100000000,
                    10000000,
                    100000000
                  ],
                  "xaxis": "x",
                  "y": [
                    1482.236612241895,
                    1469.5179765674234,
                    1476.2908295623158,
                    1427.9275479152916,
                    1121.3868020685038,
                    377.4230405616735,
                    51.81023692139248,
                    10.554302449047313,
                    1462.662314932393,
                    1429.0070459994051,
                    1477.753023592708,
                    1432.762252953213,
                    1087.6400836975827,
                    378.2918073788991,
                    55.27864890516977,
                    10.864203322568523,
                    1446.6050652805575,
                    1482.2200272927992,
                    1499.9701231270838,
                    1430.5666313442766,
                    1133.2142430611705,
                    364.5694775741414,
                    53.25423872789217,
                    10.700680262732023,
                    1488.6334239318667,
                    1479.4796184132285,
                    1463.7981014326817,
                    1464.9452489052005,
                    1498.1177408331057,
                    1457.2448003448017,
                    1086.6611059663408,
                    363.014279074659,
                    48.17380330076548,
                    10.7740630843038,
                    1450.832244632795,
                    1499.0293374339412,
                    1475.9811235362329,
                    1404.2819056466878,
                    1095.5331390145834,
                    355.9955340520346,
                    45.15388850439436,
                    11.050973067827632,
                    51.24330920154711,
                    10.6246996500812,
                    54.29502523609582,
                    10.485649280676792
                  ],
                  "yaxis": "y"
                }
              ],
              "layout": {
                "legend": {
                  "title": {
                    "text": "test_id"
                  },
                  "tracegroupgap": 0
                },
                "margin": {
                  "t": 60
                },
                "template": {
                  "data": {
                    "bar": [
                      {
                        "error_x": {
                          "color": "#2a3f5f"
                        },
                        "error_y": {
                          "color": "#2a3f5f"
                        },
                        "marker": {
                          "line": {
                            "color": "#E5ECF6",
                            "width": 0.5
                          },
                          "pattern": {
                            "fillmode": "overlay",
                            "size": 10,
                            "solidity": 0.2
                          }
                        },
                        "type": "bar"
                      }
                    ],
                    "barpolar": [
                      {
                        "marker": {
                          "line": {
                            "color": "#E5ECF6",
                            "width": 0.5
                          },
                          "pattern": {
                            "fillmode": "overlay",
                            "size": 10,
                            "solidity": 0.2
                          }
                        },
                        "type": "barpolar"
                      }
                    ],
                    "carpet": [
                      {
                        "aaxis": {
                          "endlinecolor": "#2a3f5f",
                          "gridcolor": "white",
                          "linecolor": "white",
                          "minorgridcolor": "white",
                          "startlinecolor": "#2a3f5f"
                        },
                        "baxis": {
                          "endlinecolor": "#2a3f5f",
                          "gridcolor": "white",
                          "linecolor": "white",
                          "minorgridcolor": "white",
                          "startlinecolor": "#2a3f5f"
                        },
                        "type": "carpet"
                      }
                    ],
                    "choropleth": [
                      {
                        "colorbar": {
                          "outlinewidth": 0,
                          "ticks": ""
                        },
                        "type": "choropleth"
                      }
                    ],
                    "contour": [
                      {
                        "colorbar": {
                          "outlinewidth": 0,
                          "ticks": ""
                        },
                        "colorscale": [
                          [
                            0,
                            "#0d0887"
                          ],
                          [
                            0.1111111111111111,
                            "#46039f"
                          ],
                          [
                            0.2222222222222222,
                            "#7201a8"
                          ],
                          [
                            0.3333333333333333,
                            "#9c179e"
                          ],
                          [
                            0.4444444444444444,
                            "#bd3786"
                          ],
                          [
                            0.5555555555555556,
                            "#d8576b"
                          ],
                          [
                            0.6666666666666666,
                            "#ed7953"
                          ],
                          [
                            0.7777777777777778,
                            "#fb9f3a"
                          ],
                          [
                            0.8888888888888888,
                            "#fdca26"
                          ],
                          [
                            1,
                            "#f0f921"
                          ]
                        ],
                        "type": "contour"
                      }
                    ],
                    "contourcarpet": [
                      {
                        "colorbar": {
                          "outlinewidth": 0,
                          "ticks": ""
                        },
                        "type": "contourcarpet"
                      }
                    ],
                    "heatmap": [
                      {
                        "colorbar": {
                          "outlinewidth": 0,
                          "ticks": ""
                        },
                        "colorscale": [
                          [
                            0,
                            "#0d0887"
                          ],
                          [
                            0.1111111111111111,
                            "#46039f"
                          ],
                          [
                            0.2222222222222222,
                            "#7201a8"
                          ],
                          [
                            0.3333333333333333,
                            "#9c179e"
                          ],
                          [
                            0.4444444444444444,
                            "#bd3786"
                          ],
                          [
                            0.5555555555555556,
                            "#d8576b"
                          ],
                          [
                            0.6666666666666666,
                            "#ed7953"
                          ],
                          [
                            0.7777777777777778,
                            "#fb9f3a"
                          ],
                          [
                            0.8888888888888888,
                            "#fdca26"
                          ],
                          [
                            1,
                            "#f0f921"
                          ]
                        ],
                        "type": "heatmap"
                      }
                    ],
                    "heatmapgl": [
                      {
                        "colorbar": {
                          "outlinewidth": 0,
                          "ticks": ""
                        },
                        "colorscale": [
                          [
                            0,
                            "#0d0887"
                          ],
                          [
                            0.1111111111111111,
                            "#46039f"
                          ],
                          [
                            0.2222222222222222,
                            "#7201a8"
                          ],
                          [
                            0.3333333333333333,
                            "#9c179e"
                          ],
                          [
                            0.4444444444444444,
                            "#bd3786"
                          ],
                          [
                            0.5555555555555556,
                            "#d8576b"
                          ],
                          [
                            0.6666666666666666,
                            "#ed7953"
                          ],
                          [
                            0.7777777777777778,
                            "#fb9f3a"
                          ],
                          [
                            0.8888888888888888,
                            "#fdca26"
                          ],
                          [
                            1,
                            "#f0f921"
                          ]
                        ],
                        "type": "heatmapgl"
                      }
                    ],
                    "histogram": [
                      {
                        "marker": {
                          "pattern": {
                            "fillmode": "overlay",
                            "size": 10,
                            "solidity": 0.2
                          }
                        },
                        "type": "histogram"
                      }
                    ],
                    "histogram2d": [
                      {
                        "colorbar": {
                          "outlinewidth": 0,
                          "ticks": ""
                        },
                        "colorscale": [
                          [
                            0,
                            "#0d0887"
                          ],
                          [
                            0.1111111111111111,
                            "#46039f"
                          ],
                          [
                            0.2222222222222222,
                            "#7201a8"
                          ],
                          [
                            0.3333333333333333,
                            "#9c179e"
                          ],
                          [
                            0.4444444444444444,
                            "#bd3786"
                          ],
                          [
                            0.5555555555555556,
                            "#d8576b"
                          ],
                          [
                            0.6666666666666666,
                            "#ed7953"
                          ],
                          [
                            0.7777777777777778,
                            "#fb9f3a"
                          ],
                          [
                            0.8888888888888888,
                            "#fdca26"
                          ],
                          [
                            1,
                            "#f0f921"
                          ]
                        ],
                        "type": "histogram2d"
                      }
                    ],
                    "histogram2dcontour": [
                      {
                        "colorbar": {
                          "outlinewidth": 0,
                          "ticks": ""
                        },
                        "colorscale": [
                          [
                            0,
                            "#0d0887"
                          ],
                          [
                            0.1111111111111111,
                            "#46039f"
                          ],
                          [
                            0.2222222222222222,
                            "#7201a8"
                          ],
                          [
                            0.3333333333333333,
                            "#9c179e"
                          ],
                          [
                            0.4444444444444444,
                            "#bd3786"
                          ],
                          [
                            0.5555555555555556,
                            "#d8576b"
                          ],
                          [
                            0.6666666666666666,
                            "#ed7953"
                          ],
                          [
                            0.7777777777777778,
                            "#fb9f3a"
                          ],
                          [
                            0.8888888888888888,
                            "#fdca26"
                          ],
                          [
                            1,
                            "#f0f921"
                          ]
                        ],
                        "type": "histogram2dcontour"
                      }
                    ],
                    "mesh3d": [
                      {
                        "colorbar": {
                          "outlinewidth": 0,
                          "ticks": ""
                        },
                        "type": "mesh3d"
                      }
                    ],
                    "parcoords": [
                      {
                        "line": {
                          "colorbar": {
                            "outlinewidth": 0,
                            "ticks": ""
                          }
                        },
                        "type": "parcoords"
                      }
                    ],
                    "pie": [
                      {
                        "automargin": true,
                        "type": "pie"
                      }
                    ],
                    "scatter": [
                      {
                        "fillpattern": {
                          "fillmode": "overlay",
                          "size": 10,
                          "solidity": 0.2
                        },
                        "type": "scatter"
                      }
                    ],
                    "scatter3d": [
                      {
                        "line": {
                          "colorbar": {
                            "outlinewidth": 0,
                            "ticks": ""
                          }
                        },
                        "marker": {
                          "colorbar": {
                            "outlinewidth": 0,
                            "ticks": ""
                          }
                        },
                        "type": "scatter3d"
                      }
                    ],
                    "scattercarpet": [
                      {
                        "marker": {
                          "colorbar": {
                            "outlinewidth": 0,
                            "ticks": ""
                          }
                        },
                        "type": "scattercarpet"
                      }
                    ],
                    "scattergeo": [
                      {
                        "marker": {
                          "colorbar": {
                            "outlinewidth": 0,
                            "ticks": ""
                          }
                        },
                        "type": "scattergeo"
                      }
                    ],
                    "scattergl": [
                      {
                        "marker": {
                          "colorbar": {
                            "outlinewidth": 0,
                            "ticks": ""
                          }
                        },
                        "type": "scattergl"
                      }
                    ],
                    "scattermapbox": [
                      {
                        "marker": {
                          "colorbar": {
                            "outlinewidth": 0,
                            "ticks": ""
                          }
                        },
                        "type": "scattermapbox"
                      }
                    ],
                    "scatterpolar": [
                      {
                        "marker": {
                          "colorbar": {
                            "outlinewidth": 0,
                            "ticks": ""
                          }
                        },
                        "type": "scatterpolar"
                      }
                    ],
                    "scatterpolargl": [
                      {
                        "marker": {
                          "colorbar": {
                            "outlinewidth": 0,
                            "ticks": ""
                          }
                        },
                        "type": "scatterpolargl"
                      }
                    ],
                    "scatterternary": [
                      {
                        "marker": {
                          "colorbar": {
                            "outlinewidth": 0,
                            "ticks": ""
                          }
                        },
                        "type": "scatterternary"
                      }
                    ],
                    "surface": [
                      {
                        "colorbar": {
                          "outlinewidth": 0,
                          "ticks": ""
                        },
                        "colorscale": [
                          [
                            0,
                            "#0d0887"
                          ],
                          [
                            0.1111111111111111,
                            "#46039f"
                          ],
                          [
                            0.2222222222222222,
                            "#7201a8"
                          ],
                          [
                            0.3333333333333333,
                            "#9c179e"
                          ],
                          [
                            0.4444444444444444,
                            "#bd3786"
                          ],
                          [
                            0.5555555555555556,
                            "#d8576b"
                          ],
                          [
                            0.6666666666666666,
                            "#ed7953"
                          ],
                          [
                            0.7777777777777778,
                            "#fb9f3a"
                          ],
                          [
                            0.8888888888888888,
                            "#fdca26"
                          ],
                          [
                            1,
                            "#f0f921"
                          ]
                        ],
                        "type": "surface"
                      }
                    ],
                    "table": [
                      {
                        "cells": {
                          "fill": {
                            "color": "#EBF0F8"
                          },
                          "line": {
                            "color": "white"
                          }
                        },
                        "header": {
                          "fill": {
                            "color": "#C8D4E3"
                          },
                          "line": {
                            "color": "white"
                          }
                        },
                        "type": "table"
                      }
                    ]
                  },
                  "layout": {
                    "annotationdefaults": {
                      "arrowcolor": "#2a3f5f",
                      "arrowhead": 0,
                      "arrowwidth": 1
                    },
                    "autotypenumbers": "strict",
                    "coloraxis": {
                      "colorbar": {
                        "outlinewidth": 0,
                        "ticks": ""
                      }
                    },
                    "colorscale": {
                      "diverging": [
                        [
                          0,
                          "#8e0152"
                        ],
                        [
                          0.1,
                          "#c51b7d"
                        ],
                        [
                          0.2,
                          "#de77ae"
                        ],
                        [
                          0.3,
                          "#f1b6da"
                        ],
                        [
                          0.4,
                          "#fde0ef"
                        ],
                        [
                          0.5,
                          "#f7f7f7"
                        ],
                        [
                          0.6,
                          "#e6f5d0"
                        ],
                        [
                          0.7,
                          "#b8e186"
                        ],
                        [
                          0.8,
                          "#7fbc41"
                        ],
                        [
                          0.9,
                          "#4d9221"
                        ],
                        [
                          1,
                          "#276419"
                        ]
                      ],
                      "sequential": [
                        [
                          0,
                          "#0d0887"
                        ],
                        [
                          0.1111111111111111,
                          "#46039f"
                        ],
                        [
                          0.2222222222222222,
                          "#7201a8"
                        ],
                        [
                          0.3333333333333333,
                          "#9c179e"
                        ],
                        [
                          0.4444444444444444,
                          "#bd3786"
                        ],
                        [
                          0.5555555555555556,
                          "#d8576b"
                        ],
                        [
                          0.6666666666666666,
                          "#ed7953"
                        ],
                        [
                          0.7777777777777778,
                          "#fb9f3a"
                        ],
                        [
                          0.8888888888888888,
                          "#fdca26"
                        ],
                        [
                          1,
                          "#f0f921"
                        ]
                      ],
                      "sequentialminus": [
                        [
                          0,
                          "#0d0887"
                        ],
                        [
                          0.1111111111111111,
                          "#46039f"
                        ],
                        [
                          0.2222222222222222,
                          "#7201a8"
                        ],
                        [
                          0.3333333333333333,
                          "#9c179e"
                        ],
                        [
                          0.4444444444444444,
                          "#bd3786"
                        ],
                        [
                          0.5555555555555556,
                          "#d8576b"
                        ],
                        [
                          0.6666666666666666,
                          "#ed7953"
                        ],
                        [
                          0.7777777777777778,
                          "#fb9f3a"
                        ],
                        [
                          0.8888888888888888,
                          "#fdca26"
                        ],
                        [
                          1,
                          "#f0f921"
                        ]
                      ]
                    },
                    "colorway": [
                      "#636efa",
                      "#EF553B",
                      "#00cc96",
                      "#ab63fa",
                      "#FFA15A",
                      "#19d3f3",
                      "#FF6692",
                      "#B6E880",
                      "#FF97FF",
                      "#FECB52"
                    ],
                    "font": {
                      "color": "#2a3f5f"
                    },
                    "geo": {
                      "bgcolor": "white",
                      "lakecolor": "white",
                      "landcolor": "#E5ECF6",
                      "showlakes": true,
                      "showland": true,
                      "subunitcolor": "white"
                    },
                    "hoverlabel": {
                      "align": "left"
                    },
                    "hovermode": "closest",
                    "mapbox": {
                      "style": "light"
                    },
                    "paper_bgcolor": "white",
                    "plot_bgcolor": "#E5ECF6",
                    "polar": {
                      "angularaxis": {
                        "gridcolor": "white",
                        "linecolor": "white",
                        "ticks": ""
                      },
                      "bgcolor": "#E5ECF6",
                      "radialaxis": {
                        "gridcolor": "white",
                        "linecolor": "white",
                        "ticks": ""
                      }
                    },
                    "scene": {
                      "xaxis": {
                        "backgroundcolor": "#E5ECF6",
                        "gridcolor": "white",
                        "gridwidth": 2,
                        "linecolor": "white",
                        "showbackground": true,
                        "ticks": "",
                        "zerolinecolor": "white"
                      },
                      "yaxis": {
                        "backgroundcolor": "#E5ECF6",
                        "gridcolor": "white",
                        "gridwidth": 2,
                        "linecolor": "white",
                        "showbackground": true,
                        "ticks": "",
                        "zerolinecolor": "white"
                      },
                      "zaxis": {
                        "backgroundcolor": "#E5ECF6",
                        "gridcolor": "white",
                        "gridwidth": 2,
                        "linecolor": "white",
                        "showbackground": true,
                        "ticks": "",
                        "zerolinecolor": "white"
                      }
                    },
                    "shapedefaults": {
                      "line": {
                        "color": "#2a3f5f"
                      }
                    },
                    "ternary": {
                      "aaxis": {
                        "gridcolor": "white",
                        "linecolor": "white",
                        "ticks": ""
                      },
                      "baxis": {
                        "gridcolor": "white",
                        "linecolor": "white",
                        "ticks": ""
                      },
                      "bgcolor": "#E5ECF6",
                      "caxis": {
                        "gridcolor": "white",
                        "linecolor": "white",
                        "ticks": ""
                      }
                    },
                    "title": {
                      "x": 0.05
                    },
                    "xaxis": {
                      "automargin": true,
                      "gridcolor": "white",
                      "linecolor": "white",
                      "ticks": "",
                      "title": {
                        "standoff": 15
                      },
                      "zerolinecolor": "white",
                      "zerolinewidth": 2
                    },
                    "yaxis": {
                      "automargin": true,
                      "gridcolor": "white",
                      "linecolor": "white",
                      "ticks": "",
                      "title": {
                        "standoff": 15
                      },
                      "zerolinecolor": "white",
                      "zerolinewidth": 2
                    }
                  }
                },
                "xaxis": {
                  "anchor": "y",
                  "domain": [
                    0,
                    1
                  ],
                  "title": {
                    "text": "message_size"
                  }
                },
                "yaxis": {
                  "anchor": "x",
                  "domain": [
                    0,
                    1
                  ],
                  "title": {
                    "text": "cps"
                  }
                }
              }
            },
            "text/html": [
              "<div>                            <div id=\"bd877c62-52ba-4fca-a4fb-12d82267b823\" class=\"plotly-graph-div\" style=\"height:525px; width:100%;\"></div>            <script type=\"text/javascript\">                require([\"plotly\"], function(Plotly) {                    window.PLOTLYENV=window.PLOTLYENV || {};                                    if (document.getElementById(\"bd877c62-52ba-4fca-a4fb-12d82267b823\")) {                    Plotly.newPlot(                        \"bd877c62-52ba-4fca-a4fb-12d82267b823\",                        [{\"hovertemplate\":\"test_id=ActorScaling_[monarch] Small refa_d47ab06074d4\\u003cbr\\u003egpus=1\\u003cbr\\u003emessage_size=%{x}\\u003cbr\\u003ecps=%{y}\\u003cextra\\u003e\\u003c\\u002fextra\\u003e\",\"legendgroup\":\"ActorScaling_[monarch] Small refa_d47ab06074d4\",\"line\":{\"color\":\"#636efa\",\"dash\":\"solid\"},\"marker\":{\"symbol\":\"circle\"},\"mode\":\"lines\",\"name\":\"ActorScaling_[monarch] Small refa_d47ab06074d4\",\"orientation\":\"v\",\"showlegend\":true,\"x\":[10,100,1000,10000,100000,1000000,10000000,100000000],\"xaxis\":\"x\",\"y\":[1347.0433041829422,1369.4462588484423,1376.6096481762308,1367.9193707814318,948.2636673936464,317.1593159324243,30.17179365001215,6.15574468285006],\"yaxis\":\"y\",\"type\":\"scatter\"},{\"hovertemplate\":\"test_id=ActorScalingMultipart_[monarch] Small refa_d47ab06074d4\\u003cbr\\u003egpus=1\\u003cbr\\u003emessage_size=%{x}\\u003cbr\\u003ecps=%{y}\\u003cextra\\u003e\\u003c\\u002fextra\\u003e\",\"legendgroup\":\"ActorScalingMultipart_[monarch] Small refa_d47ab06074d4\",\"line\":{\"color\":\"#EF553B\",\"dash\":\"solid\"},\"marker\":{\"symbol\":\"circle\"},\"mode\":\"lines\",\"name\":\"ActorScalingMultipart_[monarch] Small refa_d47ab06074d4\",\"orientation\":\"v\",\"showlegend\":true,\"x\":[10,100,1000,10000,100000,1000000,10000000,100000000],\"xaxis\":\"x\",\"y\":[1348.339823854618,1350.9405151373287,1352.2386911364385,1299.7124600452573,978.5555238793634,316.55299883449203,36.03574469355577,7.873147169862204],\"yaxis\":\"y\",\"type\":\"scatter\"},{\"hovertemplate\":\"test_id=ActorScaling_[monarch] Use SmolSt_83ef35e1bd39\\u003cbr\\u003egpus=1\\u003cbr\\u003emessage_size=%{x}\\u003cbr\\u003ecps=%{y}\\u003cextra\\u003e\\u003c\\u002fextra\\u003e\",\"legendgroup\":\"ActorScaling_[monarch] Use SmolSt_83ef35e1bd39\",\"line\":{\"color\":\"#00cc96\",\"dash\":\"solid\"},\"marker\":{\"symbol\":\"circle\"},\"mode\":\"lines\",\"name\":\"ActorScaling_[monarch] Use SmolSt_83ef35e1bd39\",\"orientation\":\"v\",\"showlegend\":true,\"x\":[10,100,1000,10000,100000,1000000,10000000,100000000],\"xaxis\":\"x\",\"y\":[1534.8612299436847,1479.2641232185413,1529.0854000636696,1513.3923909950436,1042.1947718306037,308.3000287691036,37.35371066833349,6.090955152944596],\"yaxis\":\"y\",\"type\":\"scatter\"},{\"hovertemplate\":\"test_id=ActorScalingMultipart_[monarch] Use SmolSt_83ef35e1bd39\\u003cbr\\u003egpus=1\\u003cbr\\u003emessage_size=%{x}\\u003cbr\\u003ecps=%{y}\\u003cextra\\u003e\\u003c\\u002fextra\\u003e\",\"legendgroup\":\"ActorScalingMultipart_[monarch] Use SmolSt_83ef35e1bd39\",\"line\":{\"color\":\"#ab63fa\",\"dash\":\"solid\"},\"marker\":{\"symbol\":\"circle\"},\"mode\":\"lines\",\"name\":\"ActorScalingMultipart_[monarch] Use SmolSt_83ef35e1bd39\",\"orientation\":\"v\",\"showlegend\":true,\"x\":[10,100,1000,10000,100000,1000000,10000000,100000000],\"xaxis\":\"x\",\"y\":[1492.8935700192762,1480.710271489207,1490.8794591231942,1411.2544549089919,1100.4912361245479,337.37058896384485,36.284171541173045,7.565891972636406],\"yaxis\":\"y\",\"type\":\"scatter\"},{\"hovertemplate\":\"test_id=ActorScaling_[monarch] Use consta_34d5605c7607\\u003cbr\\u003egpus=1\\u003cbr\\u003emessage_size=%{x}\\u003cbr\\u003ecps=%{y}\\u003cextra\\u003e\\u003c\\u002fextra\\u003e\",\"legendgroup\":\"ActorScaling_[monarch] Use consta_34d5605c7607\",\"line\":{\"color\":\"#FFA15A\",\"dash\":\"solid\"},\"marker\":{\"symbol\":\"circle\"},\"mode\":\"lines\",\"name\":\"ActorScaling_[monarch] Use consta_34d5605c7607\",\"orientation\":\"v\",\"showlegend\":true,\"x\":[10,100,1000,10000,100000,1000000,10000000,100000000],\"xaxis\":\"x\",\"y\":[1513.9621282442,1528.7280880985002,1553.6114281662196,1461.9742794257004,1011.3894720473169,306.2283928317391,30.41811635455945,6.335378001152502],\"yaxis\":\"y\",\"type\":\"scatter\"},{\"hovertemplate\":\"test_id=ActorScalingMultipart_[monarch] Use consta_34d5605c7607\\u003cbr\\u003egpus=1\\u003cbr\\u003emessage_size=%{x}\\u003cbr\\u003ecps=%{y}\\u003cextra\\u003e\\u003c\\u002fextra\\u003e\",\"legendgroup\":\"ActorScalingMultipart_[monarch] Use consta_34d5605c7607\",\"line\":{\"color\":\"#19d3f3\",\"dash\":\"solid\"},\"marker\":{\"symbol\":\"circle\"},\"mode\":\"lines\",\"name\":\"ActorScalingMultipart_[monarch] Use consta_34d5605c7607\",\"orientation\":\"v\",\"showlegend\":true,\"x\":[10,100,1000,10000,100000,1000000,10000000,100000000],\"xaxis\":\"x\",\"y\":[1487.0589176431952,1487.7606190184008,1508.726347943363,1475.7212393032144,1059.738326902253,318.14811019002667,36.02364372318724,7.237813625518719],\"yaxis\":\"y\",\"type\":\"scatter\"},{\"hovertemplate\":\"test_id=ActorScaling_[monarch] Make rust _678349f91d72\\u003cbr\\u003egpus=1\\u003cbr\\u003emessage_size=%{x}\\u003cbr\\u003ecps=%{y}\\u003cextra\\u003e\\u003c\\u002fextra\\u003e\",\"legendgroup\":\"ActorScaling_[monarch] Make rust _678349f91d72\",\"line\":{\"color\":\"#FF6692\",\"dash\":\"solid\"},\"marker\":{\"symbol\":\"circle\"},\"mode\":\"lines\",\"name\":\"ActorScaling_[monarch] Make rust _678349f91d72\",\"orientation\":\"v\",\"showlegend\":true,\"x\":[10,100,1000,10000,100000,1000000,10000000,100000000],\"xaxis\":\"x\",\"y\":[1502.2555905181432,1498.7659748914828,1526.026626981732,1451.2553113333136,1055.444428943016,327.25141824760084,46.96143729626789,7.3964925341988925],\"yaxis\":\"y\",\"type\":\"scatter\"},{\"hovertemplate\":\"test_id=ActorScalingMultipart_[monarch] Make rust _678349f91d72\\u003cbr\\u003egpus=1\\u003cbr\\u003emessage_size=%{x}\\u003cbr\\u003ecps=%{y}\\u003cextra\\u003e\\u003c\\u002fextra\\u003e\",\"legendgroup\":\"ActorScalingMultipart_[monarch] Make rust _678349f91d72\",\"line\":{\"color\":\"#B6E880\",\"dash\":\"solid\"},\"marker\":{\"symbol\":\"circle\"},\"mode\":\"lines\",\"name\":\"ActorScalingMultipart_[monarch] Make rust _678349f91d72\",\"orientation\":\"v\",\"showlegend\":true,\"x\":[10,100,1000,10000,100000,1000000,10000000,100000000],\"xaxis\":\"x\",\"y\":[1514.0877004018482,1488.1054782771407,1470.2780642110934,1412.7586073296964,1093.8574402001302,390.8350221265786,50.44912022235868,11.743606622426812],\"yaxis\":\"y\",\"type\":\"scatter\"},{\"hovertemplate\":\"test_id=ActorScaling_Temporary Commit at _b270761e9a45+\\u003cbr\\u003egpus=1\\u003cbr\\u003emessage_size=%{x}\\u003cbr\\u003ecps=%{y}\\u003cextra\\u003e\\u003c\\u002fextra\\u003e\",\"legendgroup\":\"ActorScaling_Temporary Commit at _b270761e9a45+\",\"line\":{\"color\":\"#FF97FF\",\"dash\":\"solid\"},\"marker\":{\"symbol\":\"circle\"},\"mode\":\"lines\",\"name\":\"ActorScaling_Temporary Commit at _b270761e9a45+\",\"orientation\":\"v\",\"showlegend\":true,\"x\":[10,100,1000,10000,100000,1000000,10000000,100000000,10,100,1000,10000,100000,1000000,10000000,100000000,10,100,1000,10000,100000,1000000,10000000,100000000,10,100,1000,10,100,1000,10000,100000,1000000,10000000,100000000,10,100,1000,10000,100000,1000000,10000000,100000000,10,10000000,100000000,10000000,100000000],\"xaxis\":\"x\",\"y\":[1452.6867351387457,1541.9851150746792,1497.1126033965265,1470.8040741685927,1081.3797215830132,336.60518725108903,38.5054314751382,6.819241091056631,1459.9793283253568,1496.9102127082983,1518.1277242067158,1432.2844800815778,1034.3618414723298,333.0549454185431,37.950424218592325,7.039762397259154,1421.351771764627,1553.652249213531,1531.189878228949,1451.6460786937291,1076.7047614626465,352.0955245146797,40.13987282434994,6.767805298072529,1492.5233046872443,1481.495720764382,1508.6094862677376,1491.7458542823474,1377.9529473297741,1493.284850902287,1435.0842882101988,1058.9187885978886,332.1242699222157,38.59897425239187,6.840759413324928,1455.7138580347375,1501.9129864641714,1500.6668988592667,1452.8872898351829,1077.3949122240272,327.6534789430851,42.05244051151247,6.762779388457606,1512.0856882689789,42.178077930942976,7.066856734049654,39.23207487008469,6.841157802937866],\"yaxis\":\"y\",\"type\":\"scatter\"},{\"hovertemplate\":\"test_id=ActorScalingMultipart_Temporary Commit at _b270761e9a45+\\u003cbr\\u003egpus=1\\u003cbr\\u003emessage_size=%{x}\\u003cbr\\u003ecps=%{y}\\u003cextra\\u003e\\u003c\\u002fextra\\u003e\",\"legendgroup\":\"ActorScalingMultipart_Temporary Commit at _b270761e9a45+\",\"line\":{\"color\":\"#FECB52\",\"dash\":\"solid\"},\"marker\":{\"symbol\":\"circle\"},\"mode\":\"lines\",\"name\":\"ActorScalingMultipart_Temporary Commit at _b270761e9a45+\",\"orientation\":\"v\",\"showlegend\":true,\"x\":[10,100,1000,10000,100000,1000000,10000000,100000000,10,100,1000,10000,100000,1000000,10000000,100000000,10,100,1000,10000,100000,1000000,10000000,100000000,10,100,10,100,1000,10000,100000,1000000,10000000,100000000,10,100,1000,10000,100000,1000000,10000000,100000000,10000000,100000000,10000000,100000000],\"xaxis\":\"x\",\"y\":[1482.236612241895,1469.5179765674234,1476.2908295623158,1427.9275479152916,1121.3868020685038,377.4230405616735,51.81023692139248,10.554302449047313,1462.662314932393,1429.0070459994051,1477.753023592708,1432.762252953213,1087.6400836975827,378.2918073788991,55.27864890516977,10.864203322568523,1446.6050652805575,1482.2200272927992,1499.9701231270838,1430.5666313442766,1133.2142430611705,364.5694775741414,53.25423872789217,10.700680262732023,1488.6334239318667,1479.4796184132285,1463.7981014326817,1464.9452489052005,1498.1177408331057,1457.2448003448017,1086.6611059663408,363.014279074659,48.17380330076548,10.7740630843038,1450.832244632795,1499.0293374339412,1475.9811235362329,1404.2819056466878,1095.5331390145834,355.9955340520346,45.15388850439436,11.050973067827632,51.24330920154711,10.6246996500812,54.29502523609582,10.485649280676792],\"yaxis\":\"y\",\"type\":\"scatter\"}],                        {\"template\":{\"data\":{\"histogram2dcontour\":[{\"type\":\"histogram2dcontour\",\"colorbar\":{\"outlinewidth\":0,\"ticks\":\"\"},\"colorscale\":[[0.0,\"#0d0887\"],[0.1111111111111111,\"#46039f\"],[0.2222222222222222,\"#7201a8\"],[0.3333333333333333,\"#9c179e\"],[0.4444444444444444,\"#bd3786\"],[0.5555555555555556,\"#d8576b\"],[0.6666666666666666,\"#ed7953\"],[0.7777777777777778,\"#fb9f3a\"],[0.8888888888888888,\"#fdca26\"],[1.0,\"#f0f921\"]]}],\"choropleth\":[{\"type\":\"choropleth\",\"colorbar\":{\"outlinewidth\":0,\"ticks\":\"\"}}],\"histogram2d\":[{\"type\":\"histogram2d\",\"colorbar\":{\"outlinewidth\":0,\"ticks\":\"\"},\"colorscale\":[[0.0,\"#0d0887\"],[0.1111111111111111,\"#46039f\"],[0.2222222222222222,\"#7201a8\"],[0.3333333333333333,\"#9c179e\"],[0.4444444444444444,\"#bd3786\"],[0.5555555555555556,\"#d8576b\"],[0.6666666666666666,\"#ed7953\"],[0.7777777777777778,\"#fb9f3a\"],[0.8888888888888888,\"#fdca26\"],[1.0,\"#f0f921\"]]}],\"heatmap\":[{\"type\":\"heatmap\",\"colorbar\":{\"outlinewidth\":0,\"ticks\":\"\"},\"colorscale\":[[0.0,\"#0d0887\"],[0.1111111111111111,\"#46039f\"],[0.2222222222222222,\"#7201a8\"],[0.3333333333333333,\"#9c179e\"],[0.4444444444444444,\"#bd3786\"],[0.5555555555555556,\"#d8576b\"],[0.6666666666666666,\"#ed7953\"],[0.7777777777777778,\"#fb9f3a\"],[0.8888888888888888,\"#fdca26\"],[1.0,\"#f0f921\"]]}],\"heatmapgl\":[{\"type\":\"heatmapgl\",\"colorbar\":{\"outlinewidth\":0,\"ticks\":\"\"},\"colorscale\":[[0.0,\"#0d0887\"],[0.1111111111111111,\"#46039f\"],[0.2222222222222222,\"#7201a8\"],[0.3333333333333333,\"#9c179e\"],[0.4444444444444444,\"#bd3786\"],[0.5555555555555556,\"#d8576b\"],[0.6666666666666666,\"#ed7953\"],[0.7777777777777778,\"#fb9f3a\"],[0.8888888888888888,\"#fdca26\"],[1.0,\"#f0f921\"]]}],\"contourcarpet\":[{\"type\":\"contourcarpet\",\"colorbar\":{\"outlinewidth\":0,\"ticks\":\"\"}}],\"contour\":[{\"type\":\"contour\",\"colorbar\":{\"outlinewidth\":0,\"ticks\":\"\"},\"colorscale\":[[0.0,\"#0d0887\"],[0.1111111111111111,\"#46039f\"],[0.2222222222222222,\"#7201a8\"],[0.3333333333333333,\"#9c179e\"],[0.4444444444444444,\"#bd3786\"],[0.5555555555555556,\"#d8576b\"],[0.6666666666666666,\"#ed7953\"],[0.7777777777777778,\"#fb9f3a\"],[0.8888888888888888,\"#fdca26\"],[1.0,\"#f0f921\"]]}],\"surface\":[{\"type\":\"surface\",\"colorbar\":{\"outlinewidth\":0,\"ticks\":\"\"},\"colorscale\":[[0.0,\"#0d0887\"],[0.1111111111111111,\"#46039f\"],[0.2222222222222222,\"#7201a8\"],[0.3333333333333333,\"#9c179e\"],[0.4444444444444444,\"#bd3786\"],[0.5555555555555556,\"#d8576b\"],[0.6666666666666666,\"#ed7953\"],[0.7777777777777778,\"#fb9f3a\"],[0.8888888888888888,\"#fdca26\"],[1.0,\"#f0f921\"]]}],\"mesh3d\":[{\"type\":\"mesh3d\",\"colorbar\":{\"outlinewidth\":0,\"ticks\":\"\"}}],\"scatter\":[{\"fillpattern\":{\"fillmode\":\"overlay\",\"size\":10,\"solidity\":0.2},\"type\":\"scatter\"}],\"parcoords\":[{\"type\":\"parcoords\",\"line\":{\"colorbar\":{\"outlinewidth\":0,\"ticks\":\"\"}}}],\"scatterpolargl\":[{\"type\":\"scatterpolargl\",\"marker\":{\"colorbar\":{\"outlinewidth\":0,\"ticks\":\"\"}}}],\"bar\":[{\"error_x\":{\"color\":\"#2a3f5f\"},\"error_y\":{\"color\":\"#2a3f5f\"},\"marker\":{\"line\":{\"color\":\"#E5ECF6\",\"width\":0.5},\"pattern\":{\"fillmode\":\"overlay\",\"size\":10,\"solidity\":0.2}},\"type\":\"bar\"}],\"scattergeo\":[{\"type\":\"scattergeo\",\"marker\":{\"colorbar\":{\"outlinewidth\":0,\"ticks\":\"\"}}}],\"scatterpolar\":[{\"type\":\"scatterpolar\",\"marker\":{\"colorbar\":{\"outlinewidth\":0,\"ticks\":\"\"}}}],\"histogram\":[{\"marker\":{\"pattern\":{\"fillmode\":\"overlay\",\"size\":10,\"solidity\":0.2}},\"type\":\"histogram\"}],\"scattergl\":[{\"type\":\"scattergl\",\"marker\":{\"colorbar\":{\"outlinewidth\":0,\"ticks\":\"\"}}}],\"scatter3d\":[{\"type\":\"scatter3d\",\"line\":{\"colorbar\":{\"outlinewidth\":0,\"ticks\":\"\"}},\"marker\":{\"colorbar\":{\"outlinewidth\":0,\"ticks\":\"\"}}}],\"scattermapbox\":[{\"type\":\"scattermapbox\",\"marker\":{\"colorbar\":{\"outlinewidth\":0,\"ticks\":\"\"}}}],\"scatterternary\":[{\"type\":\"scatterternary\",\"marker\":{\"colorbar\":{\"outlinewidth\":0,\"ticks\":\"\"}}}],\"scattercarpet\":[{\"type\":\"scattercarpet\",\"marker\":{\"colorbar\":{\"outlinewidth\":0,\"ticks\":\"\"}}}],\"carpet\":[{\"aaxis\":{\"endlinecolor\":\"#2a3f5f\",\"gridcolor\":\"white\",\"linecolor\":\"white\",\"minorgridcolor\":\"white\",\"startlinecolor\":\"#2a3f5f\"},\"baxis\":{\"endlinecolor\":\"#2a3f5f\",\"gridcolor\":\"white\",\"linecolor\":\"white\",\"minorgridcolor\":\"white\",\"startlinecolor\":\"#2a3f5f\"},\"type\":\"carpet\"}],\"table\":[{\"cells\":{\"fill\":{\"color\":\"#EBF0F8\"},\"line\":{\"color\":\"white\"}},\"header\":{\"fill\":{\"color\":\"#C8D4E3\"},\"line\":{\"color\":\"white\"}},\"type\":\"table\"}],\"barpolar\":[{\"marker\":{\"line\":{\"color\":\"#E5ECF6\",\"width\":0.5},\"pattern\":{\"fillmode\":\"overlay\",\"size\":10,\"solidity\":0.2}},\"type\":\"barpolar\"}],\"pie\":[{\"automargin\":true,\"type\":\"pie\"}]},\"layout\":{\"autotypenumbers\":\"strict\",\"colorway\":[\"#636efa\",\"#EF553B\",\"#00cc96\",\"#ab63fa\",\"#FFA15A\",\"#19d3f3\",\"#FF6692\",\"#B6E880\",\"#FF97FF\",\"#FECB52\"],\"font\":{\"color\":\"#2a3f5f\"},\"hovermode\":\"closest\",\"hoverlabel\":{\"align\":\"left\"},\"paper_bgcolor\":\"white\",\"plot_bgcolor\":\"#E5ECF6\",\"polar\":{\"bgcolor\":\"#E5ECF6\",\"angularaxis\":{\"gridcolor\":\"white\",\"linecolor\":\"white\",\"ticks\":\"\"},\"radialaxis\":{\"gridcolor\":\"white\",\"linecolor\":\"white\",\"ticks\":\"\"}},\"ternary\":{\"bgcolor\":\"#E5ECF6\",\"aaxis\":{\"gridcolor\":\"white\",\"linecolor\":\"white\",\"ticks\":\"\"},\"baxis\":{\"gridcolor\":\"white\",\"linecolor\":\"white\",\"ticks\":\"\"},\"caxis\":{\"gridcolor\":\"white\",\"linecolor\":\"white\",\"ticks\":\"\"}},\"coloraxis\":{\"colorbar\":{\"outlinewidth\":0,\"ticks\":\"\"}},\"colorscale\":{\"sequential\":[[0.0,\"#0d0887\"],[0.1111111111111111,\"#46039f\"],[0.2222222222222222,\"#7201a8\"],[0.3333333333333333,\"#9c179e\"],[0.4444444444444444,\"#bd3786\"],[0.5555555555555556,\"#d8576b\"],[0.6666666666666666,\"#ed7953\"],[0.7777777777777778,\"#fb9f3a\"],[0.8888888888888888,\"#fdca26\"],[1.0,\"#f0f921\"]],\"sequentialminus\":[[0.0,\"#0d0887\"],[0.1111111111111111,\"#46039f\"],[0.2222222222222222,\"#7201a8\"],[0.3333333333333333,\"#9c179e\"],[0.4444444444444444,\"#bd3786\"],[0.5555555555555556,\"#d8576b\"],[0.6666666666666666,\"#ed7953\"],[0.7777777777777778,\"#fb9f3a\"],[0.8888888888888888,\"#fdca26\"],[1.0,\"#f0f921\"]],\"diverging\":[[0,\"#8e0152\"],[0.1,\"#c51b7d\"],[0.2,\"#de77ae\"],[0.3,\"#f1b6da\"],[0.4,\"#fde0ef\"],[0.5,\"#f7f7f7\"],[0.6,\"#e6f5d0\"],[0.7,\"#b8e186\"],[0.8,\"#7fbc41\"],[0.9,\"#4d9221\"],[1,\"#276419\"]]},\"xaxis\":{\"gridcolor\":\"white\",\"linecolor\":\"white\",\"ticks\":\"\",\"title\":{\"standoff\":15},\"zerolinecolor\":\"white\",\"automargin\":true,\"zerolinewidth\":2},\"yaxis\":{\"gridcolor\":\"white\",\"linecolor\":\"white\",\"ticks\":\"\",\"title\":{\"standoff\":15},\"zerolinecolor\":\"white\",\"automargin\":true,\"zerolinewidth\":2},\"scene\":{\"xaxis\":{\"backgroundcolor\":\"#E5ECF6\",\"gridcolor\":\"white\",\"linecolor\":\"white\",\"showbackground\":true,\"ticks\":\"\",\"zerolinecolor\":\"white\",\"gridwidth\":2},\"yaxis\":{\"backgroundcolor\":\"#E5ECF6\",\"gridcolor\":\"white\",\"linecolor\":\"white\",\"showbackground\":true,\"ticks\":\"\",\"zerolinecolor\":\"white\",\"gridwidth\":2},\"zaxis\":{\"backgroundcolor\":\"#E5ECF6\",\"gridcolor\":\"white\",\"linecolor\":\"white\",\"showbackground\":true,\"ticks\":\"\",\"zerolinecolor\":\"white\",\"gridwidth\":2}},\"shapedefaults\":{\"line\":{\"color\":\"#2a3f5f\"}},\"annotationdefaults\":{\"arrowcolor\":\"#2a3f5f\",\"arrowhead\":0,\"arrowwidth\":1},\"geo\":{\"bgcolor\":\"white\",\"landcolor\":\"#E5ECF6\",\"subunitcolor\":\"white\",\"showland\":true,\"showlakes\":true,\"lakecolor\":\"white\"},\"title\":{\"x\":0.05},\"mapbox\":{\"style\":\"light\"}}},\"xaxis\":{\"anchor\":\"y\",\"domain\":[0.0,1.0],\"title\":{\"text\":\"message_size\"}},\"yaxis\":{\"anchor\":\"x\",\"domain\":[0.0,1.0],\"title\":{\"text\":\"cps\"}},\"legend\":{\"title\":{\"text\":\"test_id\"},\"tracegroupgap\":0},\"margin\":{\"t\":60}},                        {\"responsive\": true}                    ).then(function(){\n",
              "                            \n",
              "var gd = document.getElementById('bd877c62-52ba-4fca-a4fb-12d82267b823');\n",
              "var x = new MutationObserver(function (mutations, observer) {{\n",
              "        var display = window.getComputedStyle(gd).display;\n",
              "        if (!display || display === 'none') {{\n",
              "            console.log([gd, 'removed!']);\n",
              "            Plotly.purge(gd);\n",
              "            observer.disconnect();\n",
              "        }}\n",
              "}});\n",
              "\n",
              "// Listen for the removal of the full notebook cells\n",
              "var notebookContainer = gd.closest('#notebook-container');\n",
              "if (notebookContainer) {{\n",
              "    x.observe(notebookContainer, {childList: true});\n",
              "}}\n",
              "\n",
              "// Listen for the clearing of the current output cell\n",
              "var outputEl = gd.closest('.output');\n",
              "if (outputEl) {{\n",
              "    x.observe(outputEl, {childList: true});\n",
              "}}\n",
              "\n",
              "                        })                };                });            </script>        </div>"
            ]
          },
          "metadata": {},
          "output_type": "display_data"
        }
      ],
      "source": [
        "px.line(\n",
        "    raw,\n",
        "    x=\"message_size\",\n",
        "    y=\"cps\",\n",
        "    log_y=False,\n",
        "    color=\"test_id\",\n",
        "    labels={},\n",
        "    log_x=False,\n",
        "    line_group=\"gpus\",\n",
        ")"
      ]
    },
    {
      "cell_type": "code",
      "execution_count": 1194,
      "metadata": {},
      "outputs": [],
      "source": [
        "# Group by message_size and find minimum values for each field\n",
        "min_values = (\n",
        "    raw.groupby(\"message_size\")\n",
        "    .agg({\"bps\": \"min\", \"mps\": \"min\", \"cps\": \"min\", \"total_test_duration_us\": \"min\"})\n",
        "    .reset_index()\n",
        ")\n",
        "\n",
        "# Rename columns to indicate they are minimum values\n",
        "min_values.columns = [\"message_size\"] + [\n",
        "    f\"min_{col}\" for col in min_values.columns if col != \"message_size\"\n",
        "]\n",
        "\n",
        "# Merge the minimum values back to the original dataframe\n",
        "mps_ratio = pd.merge(raw, min_values, on=\"message_size\")\n",
        "\n",
        "# Create normalized fields\n",
        "mps_ratio[\"bps_norm\"] = mps_ratio[\"bps\"] / mps_ratio[\"min_bps\"]\n",
        "mps_ratio[\"mps_norm\"] = mps_ratio[\"mps\"] / mps_ratio[\"min_mps\"]\n",
        "mps_ratio[\"cps_norm\"] = mps_ratio[\"cps\"] / mps_ratio[\"min_cps\"]\n",
        "mps_ratio[\"duration_norm\"] = (\n",
        "    mps_ratio[\"total_test_duration_us\"] / mps_ratio[\"min_total_test_duration_us\"]\n",
        ")"
      ]
    },
    {
      "cell_type": "code",
      "execution_count": 1195,
      "metadata": {},
      "outputs": [],
      "source": []
    },
    {
      "cell_type": "code",
      "execution_count": 1196,
      "metadata": {
        "output": {
          "id": 2447725458955132,
          "loadingStatus": "loaded"
        }
      },
      "outputs": [
        {
          "data": {
            "application/vnd.plotly.v1+json": {
              "config": {
                "plotlyServerURL": "https://plot.ly"
              },
              "data": [
                {
                  "hovertemplate": "test_id=ActorScaling_[monarch] Small refa_d47ab06074d4<br>gpus=1<br>message_size=%{x}<br>Messages/s vs. Baseline=%{y}<extra></extra>",
                  "legendgroup": "ActorScaling_[monarch] Small refa_d47ab06074d4",
                  "line": {
                    "color": "#636efa",
                    "dash": "solid"
                  },
                  "marker": {
                    "symbol": "circle"
                  },
                  "mode": "lines",
                  "name": "ActorScaling_[monarch] Small refa_d47ab06074d4",
                  "orientation": "v",
                  "showlegend": true,
                  "type": "scatter",
                  "x": [
                    10,
                    100,
                    1000,
                    10000,
                    100000,
                    1000000,
                    10000000,
                    100000000
                  ],
                  "xaxis": "x",
                  "y": [
                    1,
                    1.0136984149218682,
                    1.018022673955077,
                    1.0524784618390128,
                    1,
                    1.0356953285735702,
                    1,
                    1.0106370065578538
                  ],
                  "yaxis": "y"
                },
                {
                  "hovertemplate": "test_id=ActorScalingMultipart_[monarch] Small refa_d47ab06074d4<br>gpus=1<br>message_size=%{x}<br>Messages/s vs. Baseline=%{y}<extra></extra>",
                  "legendgroup": "ActorScalingMultipart_[monarch] Small refa_d47ab06074d4",
                  "line": {
                    "color": "#EF553B",
                    "dash": "solid"
                  },
                  "marker": {
                    "symbol": "circle"
                  },
                  "mode": "lines",
                  "name": "ActorScalingMultipart_[monarch] Small refa_d47ab06074d4",
                  "orientation": "v",
                  "showlegend": true,
                  "type": "scatter",
                  "x": [
                    10,
                    100,
                    1000,
                    10000,
                    100000,
                    1000000,
                    10000000,
                    100000000
                  ],
                  "xaxis": "x",
                  "y": [
                    1.0009624929411325,
                    1,
                    1,
                    1,
                    1.0319445503685443,
                    1.0337153779480726,
                    1.194352086308308,
                    1.292596476606141
                  ],
                  "yaxis": "y"
                },
                {
                  "hovertemplate": "test_id=ActorScaling_[monarch] Use SmolSt_83ef35e1bd39<br>gpus=1<br>message_size=%{x}<br>Messages/s vs. Baseline=%{y}<extra></extra>",
                  "legendgroup": "ActorScaling_[monarch] Use SmolSt_83ef35e1bd39",
                  "line": {
                    "color": "#00cc96",
                    "dash": "solid"
                  },
                  "marker": {
                    "symbol": "circle"
                  },
                  "mode": "lines",
                  "name": "ActorScaling_[monarch] Use SmolSt_83ef35e1bd39",
                  "orientation": "v",
                  "showlegend": true,
                  "type": "scatter",
                  "x": [
                    10,
                    100,
                    1000,
                    10000,
                    100000,
                    1000000,
                    10000000,
                    100000000
                  ],
                  "xaxis": "x",
                  "y": [
                    1.139429760852911,
                    1.094988348223584,
                    1.130780689893296,
                    1.1644055416244494,
                    1.0990558930673069,
                    1.0067650028078972,
                    1.238034142140517,
                    1
                  ],
                  "yaxis": "y"
                },
                {
                  "hovertemplate": "test_id=ActorScalingMultipart_[monarch] Use SmolSt_83ef35e1bd39<br>gpus=1<br>message_size=%{x}<br>Messages/s vs. Baseline=%{y}<extra></extra>",
                  "legendgroup": "ActorScalingMultipart_[monarch] Use SmolSt_83ef35e1bd39",
                  "line": {
                    "color": "#ab63fa",
                    "dash": "solid"
                  },
                  "marker": {
                    "symbol": "circle"
                  },
                  "mode": "lines",
                  "name": "ActorScalingMultipart_[monarch] Use SmolSt_83ef35e1bd39",
                  "orientation": "v",
                  "showlegend": true,
                  "type": "scatter",
                  "x": [
                    10,
                    100,
                    1000,
                    10000,
                    100000,
                    1000000,
                    10000000,
                    100000000
                  ],
                  "xaxis": "x",
                  "y": [
                    1.1082743705294615,
                    1.0960588233884498,
                    1.1025268459595992,
                    1.0858205166855526,
                    1.1605329550897032,
                    1.10169597875667,
                    1.2025858310600779,
                    1.2421519749622143
                  ],
                  "yaxis": "y"
                },
                {
                  "hovertemplate": "test_id=ActorScaling_[monarch] Use consta_34d5605c7607<br>gpus=1<br>message_size=%{x}<br>Messages/s vs. Baseline=%{y}<extra></extra>",
                  "legendgroup": "ActorScaling_[monarch] Use consta_34d5605c7607",
                  "line": {
                    "color": "#FFA15A",
                    "dash": "solid"
                  },
                  "marker": {
                    "symbol": "circle"
                  },
                  "mode": "lines",
                  "name": "ActorScaling_[monarch] Use consta_34d5605c7607",
                  "orientation": "v",
                  "showlegend": true,
                  "type": "scatter",
                  "x": [
                    10,
                    100,
                    1000,
                    10000,
                    100000,
                    1000000,
                    10000000,
                    100000000
                  ],
                  "xaxis": "x",
                  "y": [
                    1.1239149651261608,
                    1.1316028137205572,
                    1.1489180411341025,
                    1.1248443977945652,
                    1.0665698864401028,
                    1,
                    1.0081640060052313,
                    1.0401288208614938
                  ],
                  "yaxis": "y"
                },
                {
                  "hovertemplate": "test_id=ActorScalingMultipart_[monarch] Use consta_34d5605c7607<br>gpus=1<br>message_size=%{x}<br>Messages/s vs. Baseline=%{y}<extra></extra>",
                  "legendgroup": "ActorScalingMultipart_[monarch] Use consta_34d5605c7607",
                  "line": {
                    "color": "#19d3f3",
                    "dash": "solid"
                  },
                  "marker": {
                    "symbol": "circle"
                  },
                  "mode": "lines",
                  "name": "ActorScalingMultipart_[monarch] Use consta_34d5605c7607",
                  "orientation": "v",
                  "showlegend": true,
                  "type": "scatter",
                  "x": [
                    10,
                    100,
                    1000,
                    10000,
                    100000,
                    1000000,
                    10000000,
                    100000000
                  ],
                  "xaxis": "x",
                  "y": [
                    1.1039429192999703,
                    1.1012776671866737,
                    1.1157248774440924,
                    1.1354213217682227,
                    1.117556607240896,
                    1.03892427233172,
                    1.1939510173327972,
                    1.188288773070294
                  ],
                  "yaxis": "y"
                },
                {
                  "hovertemplate": "test_id=ActorScaling_[monarch] Make rust _678349f91d72<br>gpus=1<br>message_size=%{x}<br>Messages/s vs. Baseline=%{y}<extra></extra>",
                  "legendgroup": "ActorScaling_[monarch] Make rust _678349f91d72",
                  "line": {
                    "color": "#FF6692",
                    "dash": "solid"
                  },
                  "marker": {
                    "symbol": "circle"
                  },
                  "mode": "lines",
                  "name": "ActorScaling_[monarch] Make rust _678349f91d72",
                  "orientation": "v",
                  "showlegend": true,
                  "type": "scatter",
                  "x": [
                    10,
                    100,
                    1000,
                    10000,
                    100000,
                    1000000,
                    10000000,
                    100000000
                  ],
                  "xaxis": "x",
                  "y": [
                    1.1152244221497736,
                    1.1094241072036595,
                    1.128518683117431,
                    1.1165972135735156,
                    1.1130284384341769,
                    1.0686514572390193,
                    1.5564681981128747,
                    1.2143403371839228
                  ],
                  "yaxis": "y"
                },
                {
                  "hovertemplate": "test_id=ActorScalingMultipart_[monarch] Make rust _678349f91d72<br>gpus=1<br>message_size=%{x}<br>Messages/s vs. Baseline=%{y}<extra></extra>",
                  "legendgroup": "ActorScalingMultipart_[monarch] Make rust _678349f91d72",
                  "line": {
                    "color": "#B6E880",
                    "dash": "solid"
                  },
                  "marker": {
                    "symbol": "circle"
                  },
                  "mode": "lines",
                  "name": "ActorScalingMultipart_[monarch] Make rust _678349f91d72",
                  "orientation": "v",
                  "showlegend": true,
                  "type": "scatter",
                  "x": [
                    10,
                    100,
                    1000,
                    10000,
                    100000,
                    1000000,
                    10000000,
                    100000000
                  ],
                  "xaxis": "x",
                  "y": [
                    1.1240081857058248,
                    1.1015329406460719,
                    1.0872918175233197,
                    1.086977812985268,
                    1.153537225787271,
                    1.2762860377265137,
                    1.6720623509347898,
                    1.9280402379501207
                  ],
                  "yaxis": "y"
                },
                {
                  "hovertemplate": "test_id=ActorScaling_Temporary Commit at _b270761e9a45+<br>gpus=1<br>message_size=%{x}<br>Messages/s vs. Baseline=%{y}<extra></extra>",
                  "legendgroup": "ActorScaling_Temporary Commit at _b270761e9a45+",
                  "line": {
                    "color": "#FF97FF",
                    "dash": "solid"
                  },
                  "marker": {
                    "symbol": "circle"
                  },
                  "mode": "lines",
                  "name": "ActorScaling_Temporary Commit at _b270761e9a45+",
                  "orientation": "v",
                  "showlegend": true,
                  "type": "scatter",
                  "x": [
                    10,
                    100,
                    1000,
                    10000,
                    100000,
                    1000000,
                    10000000,
                    100000000,
                    10,
                    100,
                    1000,
                    10000,
                    100000,
                    1000000,
                    10000000,
                    100000000,
                    10,
                    100,
                    1000,
                    10000,
                    100000,
                    1000000,
                    10000000,
                    100000000,
                    10,
                    100,
                    1000,
                    10,
                    100,
                    1000,
                    10000,
                    100000,
                    1000000,
                    10000000,
                    100000000,
                    10,
                    100,
                    1000,
                    10000,
                    100000,
                    1000000,
                    10000000,
                    100000000,
                    10,
                    10000000,
                    100000000,
                    10000000,
                    100000000
                  ],
                  "xaxis": "x",
                  "y": [
                    1.078426157962221,
                    1.1414159970751414,
                    1.1071363459792252,
                    1.1316380502479586,
                    1.1403787351204158,
                    1.0991965315118277,
                    1.2762062448721108,
                    1.1195684288957461,
                    1.0838399357999235,
                    1.1080504255630612,
                    1.1226773306795874,
                    1.1020010380078253,
                    1.0907956057362493,
                    1.0876030871557498,
                    1.2578113405789197,
                    1.1557731456709002,
                    1.0551641267589071,
                    1.1500523019369182,
                    1.1323369818253888,
                    1.1168978703514016,
                    1.135448713776019,
                    1.1497807935404045,
                    1.330377414414465,
                    1.1111238103273047,
                    1.1079994979022176,
                    1.0966402326114129,
                    1.1156384565508055,
                    1.1074223446640978,
                    1.0199952787630324,
                    1.1043056678457495,
                    1.1041552130386036,
                    1.116692355733067,
                    1.0845639323349923,
                    1.279306583497608,
                    1.1231012610588422,
                    1.080673392989181,
                    1.1117536039782594,
                    1.1097647986969572,
                    1.117852859381368,
                    1.1361765184838357,
                    1.0699644011230476,
                    1.393766674905505,
                    1.1102986672276227,
                    1.1225219587028379,
                    1.397930743534897,
                    1.1602214359817231,
                    1.3002897781010407,
                    1.123166667814094
                  ],
                  "yaxis": "y"
                },
                {
                  "hovertemplate": "test_id=ActorScalingMultipart_Temporary Commit at _b270761e9a45+<br>gpus=1<br>message_size=%{x}<br>Messages/s vs. Baseline=%{y}<extra></extra>",
                  "legendgroup": "ActorScalingMultipart_Temporary Commit at _b270761e9a45+",
                  "line": {
                    "color": "#FECB52",
                    "dash": "solid"
                  },
                  "marker": {
                    "symbol": "circle"
                  },
                  "mode": "lines",
                  "name": "ActorScalingMultipart_Temporary Commit at _b270761e9a45+",
                  "orientation": "v",
                  "showlegend": true,
                  "type": "scatter",
                  "x": [
                    10,
                    100,
                    1000,
                    10000,
                    100000,
                    1000000,
                    10000000,
                    100000000,
                    10,
                    100,
                    1000,
                    10000,
                    100000,
                    1000000,
                    10000000,
                    100000000,
                    10,
                    100,
                    1000,
                    10000,
                    100000,
                    1000000,
                    10000000,
                    100000000,
                    10,
                    100,
                    10,
                    100,
                    1000,
                    10000,
                    100000,
                    1000000,
                    10000000,
                    100000000,
                    10,
                    100,
                    1000,
                    10000,
                    100000,
                    1000000,
                    10000000,
                    100000000,
                    10000000,
                    100000000,
                    10000000,
                    100000000
                  ],
                  "xaxis": "x",
                  "y": [
                    1.100363000683898,
                    1.0877740064062265,
                    1.0917383441540356,
                    1.0986488102649794,
                    1.1825685625504303,
                    1.2324887221318277,
                    1.7171745744513143,
                    1.7327828204325175,
                    1.0858316955293283,
                    1.0577868011117726,
                    1.092819657712046,
                    1.1023686369085994,
                    1.1469806564317917,
                    1.2353257119001246,
                    1.8321300200575747,
                    1.783661683556537,
                    1.073911329196655,
                    1.0971763824420688,
                    1.1092495230013644,
                    1.100679323559353,
                    1.1950412970855149,
                    1.1905149427945387,
                    1.7650339037059775,
                    1.7568148170585223,
                    1.1051117802295205,
                    1.0951478631631928,
                    1.0866748655274732,
                    1.0843891588789036,
                    1.1078796595992002,
                    1.1212055321021228,
                    1.1459482666388423,
                    1.1854363852999144,
                    1.5966502972800916,
                    1.7688626518773847,
                    1.07704944609246,
                    1.1096190547527984,
                    1.0915093120843922,
                    1.080455830667184,
                    1.1553043490801616,
                    1.1625164171097637,
                    1.4965596354055728,
                    1.8143251411866295,
                    1.6983845838255782,
                    1.7443404824520539,
                    1.7995292512572898,
                    1.7215114899684718
                  ],
                  "yaxis": "y"
                }
              ],
              "layout": {
                "annotations": [
                  {
                    "font": {},
                    "showarrow": false,
                    "text": "gpus=1",
                    "textangle": 90,
                    "x": 0.98,
                    "xanchor": "left",
                    "xref": "paper",
                    "y": 0.5,
                    "yanchor": "middle",
                    "yref": "paper"
                  }
                ],
                "legend": {
                  "title": {
                    "text": "test_id"
                  },
                  "tracegroupgap": 0
                },
                "margin": {
                  "t": 60
                },
                "template": {
                  "data": {
                    "bar": [
                      {
                        "error_x": {
                          "color": "#2a3f5f"
                        },
                        "error_y": {
                          "color": "#2a3f5f"
                        },
                        "marker": {
                          "line": {
                            "color": "#E5ECF6",
                            "width": 0.5
                          },
                          "pattern": {
                            "fillmode": "overlay",
                            "size": 10,
                            "solidity": 0.2
                          }
                        },
                        "type": "bar"
                      }
                    ],
                    "barpolar": [
                      {
                        "marker": {
                          "line": {
                            "color": "#E5ECF6",
                            "width": 0.5
                          },
                          "pattern": {
                            "fillmode": "overlay",
                            "size": 10,
                            "solidity": 0.2
                          }
                        },
                        "type": "barpolar"
                      }
                    ],
                    "carpet": [
                      {
                        "aaxis": {
                          "endlinecolor": "#2a3f5f",
                          "gridcolor": "white",
                          "linecolor": "white",
                          "minorgridcolor": "white",
                          "startlinecolor": "#2a3f5f"
                        },
                        "baxis": {
                          "endlinecolor": "#2a3f5f",
                          "gridcolor": "white",
                          "linecolor": "white",
                          "minorgridcolor": "white",
                          "startlinecolor": "#2a3f5f"
                        },
                        "type": "carpet"
                      }
                    ],
                    "choropleth": [
                      {
                        "colorbar": {
                          "outlinewidth": 0,
                          "ticks": ""
                        },
                        "type": "choropleth"
                      }
                    ],
                    "contour": [
                      {
                        "colorbar": {
                          "outlinewidth": 0,
                          "ticks": ""
                        },
                        "colorscale": [
                          [
                            0,
                            "#0d0887"
                          ],
                          [
                            0.1111111111111111,
                            "#46039f"
                          ],
                          [
                            0.2222222222222222,
                            "#7201a8"
                          ],
                          [
                            0.3333333333333333,
                            "#9c179e"
                          ],
                          [
                            0.4444444444444444,
                            "#bd3786"
                          ],
                          [
                            0.5555555555555556,
                            "#d8576b"
                          ],
                          [
                            0.6666666666666666,
                            "#ed7953"
                          ],
                          [
                            0.7777777777777778,
                            "#fb9f3a"
                          ],
                          [
                            0.8888888888888888,
                            "#fdca26"
                          ],
                          [
                            1,
                            "#f0f921"
                          ]
                        ],
                        "type": "contour"
                      }
                    ],
                    "contourcarpet": [
                      {
                        "colorbar": {
                          "outlinewidth": 0,
                          "ticks": ""
                        },
                        "type": "contourcarpet"
                      }
                    ],
                    "heatmap": [
                      {
                        "colorbar": {
                          "outlinewidth": 0,
                          "ticks": ""
                        },
                        "colorscale": [
                          [
                            0,
                            "#0d0887"
                          ],
                          [
                            0.1111111111111111,
                            "#46039f"
                          ],
                          [
                            0.2222222222222222,
                            "#7201a8"
                          ],
                          [
                            0.3333333333333333,
                            "#9c179e"
                          ],
                          [
                            0.4444444444444444,
                            "#bd3786"
                          ],
                          [
                            0.5555555555555556,
                            "#d8576b"
                          ],
                          [
                            0.6666666666666666,
                            "#ed7953"
                          ],
                          [
                            0.7777777777777778,
                            "#fb9f3a"
                          ],
                          [
                            0.8888888888888888,
                            "#fdca26"
                          ],
                          [
                            1,
                            "#f0f921"
                          ]
                        ],
                        "type": "heatmap"
                      }
                    ],
                    "heatmapgl": [
                      {
                        "colorbar": {
                          "outlinewidth": 0,
                          "ticks": ""
                        },
                        "colorscale": [
                          [
                            0,
                            "#0d0887"
                          ],
                          [
                            0.1111111111111111,
                            "#46039f"
                          ],
                          [
                            0.2222222222222222,
                            "#7201a8"
                          ],
                          [
                            0.3333333333333333,
                            "#9c179e"
                          ],
                          [
                            0.4444444444444444,
                            "#bd3786"
                          ],
                          [
                            0.5555555555555556,
                            "#d8576b"
                          ],
                          [
                            0.6666666666666666,
                            "#ed7953"
                          ],
                          [
                            0.7777777777777778,
                            "#fb9f3a"
                          ],
                          [
                            0.8888888888888888,
                            "#fdca26"
                          ],
                          [
                            1,
                            "#f0f921"
                          ]
                        ],
                        "type": "heatmapgl"
                      }
                    ],
                    "histogram": [
                      {
                        "marker": {
                          "pattern": {
                            "fillmode": "overlay",
                            "size": 10,
                            "solidity": 0.2
                          }
                        },
                        "type": "histogram"
                      }
                    ],
                    "histogram2d": [
                      {
                        "colorbar": {
                          "outlinewidth": 0,
                          "ticks": ""
                        },
                        "colorscale": [
                          [
                            0,
                            "#0d0887"
                          ],
                          [
                            0.1111111111111111,
                            "#46039f"
                          ],
                          [
                            0.2222222222222222,
                            "#7201a8"
                          ],
                          [
                            0.3333333333333333,
                            "#9c179e"
                          ],
                          [
                            0.4444444444444444,
                            "#bd3786"
                          ],
                          [
                            0.5555555555555556,
                            "#d8576b"
                          ],
                          [
                            0.6666666666666666,
                            "#ed7953"
                          ],
                          [
                            0.7777777777777778,
                            "#fb9f3a"
                          ],
                          [
                            0.8888888888888888,
                            "#fdca26"
                          ],
                          [
                            1,
                            "#f0f921"
                          ]
                        ],
                        "type": "histogram2d"
                      }
                    ],
                    "histogram2dcontour": [
                      {
                        "colorbar": {
                          "outlinewidth": 0,
                          "ticks": ""
                        },
                        "colorscale": [
                          [
                            0,
                            "#0d0887"
                          ],
                          [
                            0.1111111111111111,
                            "#46039f"
                          ],
                          [
                            0.2222222222222222,
                            "#7201a8"
                          ],
                          [
                            0.3333333333333333,
                            "#9c179e"
                          ],
                          [
                            0.4444444444444444,
                            "#bd3786"
                          ],
                          [
                            0.5555555555555556,
                            "#d8576b"
                          ],
                          [
                            0.6666666666666666,
                            "#ed7953"
                          ],
                          [
                            0.7777777777777778,
                            "#fb9f3a"
                          ],
                          [
                            0.8888888888888888,
                            "#fdca26"
                          ],
                          [
                            1,
                            "#f0f921"
                          ]
                        ],
                        "type": "histogram2dcontour"
                      }
                    ],
                    "mesh3d": [
                      {
                        "colorbar": {
                          "outlinewidth": 0,
                          "ticks": ""
                        },
                        "type": "mesh3d"
                      }
                    ],
                    "parcoords": [
                      {
                        "line": {
                          "colorbar": {
                            "outlinewidth": 0,
                            "ticks": ""
                          }
                        },
                        "type": "parcoords"
                      }
                    ],
                    "pie": [
                      {
                        "automargin": true,
                        "type": "pie"
                      }
                    ],
                    "scatter": [
                      {
                        "fillpattern": {
                          "fillmode": "overlay",
                          "size": 10,
                          "solidity": 0.2
                        },
                        "type": "scatter"
                      }
                    ],
                    "scatter3d": [
                      {
                        "line": {
                          "colorbar": {
                            "outlinewidth": 0,
                            "ticks": ""
                          }
                        },
                        "marker": {
                          "colorbar": {
                            "outlinewidth": 0,
                            "ticks": ""
                          }
                        },
                        "type": "scatter3d"
                      }
                    ],
                    "scattercarpet": [
                      {
                        "marker": {
                          "colorbar": {
                            "outlinewidth": 0,
                            "ticks": ""
                          }
                        },
                        "type": "scattercarpet"
                      }
                    ],
                    "scattergeo": [
                      {
                        "marker": {
                          "colorbar": {
                            "outlinewidth": 0,
                            "ticks": ""
                          }
                        },
                        "type": "scattergeo"
                      }
                    ],
                    "scattergl": [
                      {
                        "marker": {
                          "colorbar": {
                            "outlinewidth": 0,
                            "ticks": ""
                          }
                        },
                        "type": "scattergl"
                      }
                    ],
                    "scattermapbox": [
                      {
                        "marker": {
                          "colorbar": {
                            "outlinewidth": 0,
                            "ticks": ""
                          }
                        },
                        "type": "scattermapbox"
                      }
                    ],
                    "scatterpolar": [
                      {
                        "marker": {
                          "colorbar": {
                            "outlinewidth": 0,
                            "ticks": ""
                          }
                        },
                        "type": "scatterpolar"
                      }
                    ],
                    "scatterpolargl": [
                      {
                        "marker": {
                          "colorbar": {
                            "outlinewidth": 0,
                            "ticks": ""
                          }
                        },
                        "type": "scatterpolargl"
                      }
                    ],
                    "scatterternary": [
                      {
                        "marker": {
                          "colorbar": {
                            "outlinewidth": 0,
                            "ticks": ""
                          }
                        },
                        "type": "scatterternary"
                      }
                    ],
                    "surface": [
                      {
                        "colorbar": {
                          "outlinewidth": 0,
                          "ticks": ""
                        },
                        "colorscale": [
                          [
                            0,
                            "#0d0887"
                          ],
                          [
                            0.1111111111111111,
                            "#46039f"
                          ],
                          [
                            0.2222222222222222,
                            "#7201a8"
                          ],
                          [
                            0.3333333333333333,
                            "#9c179e"
                          ],
                          [
                            0.4444444444444444,
                            "#bd3786"
                          ],
                          [
                            0.5555555555555556,
                            "#d8576b"
                          ],
                          [
                            0.6666666666666666,
                            "#ed7953"
                          ],
                          [
                            0.7777777777777778,
                            "#fb9f3a"
                          ],
                          [
                            0.8888888888888888,
                            "#fdca26"
                          ],
                          [
                            1,
                            "#f0f921"
                          ]
                        ],
                        "type": "surface"
                      }
                    ],
                    "table": [
                      {
                        "cells": {
                          "fill": {
                            "color": "#EBF0F8"
                          },
                          "line": {
                            "color": "white"
                          }
                        },
                        "header": {
                          "fill": {
                            "color": "#C8D4E3"
                          },
                          "line": {
                            "color": "white"
                          }
                        },
                        "type": "table"
                      }
                    ]
                  },
                  "layout": {
                    "annotationdefaults": {
                      "arrowcolor": "#2a3f5f",
                      "arrowhead": 0,
                      "arrowwidth": 1
                    },
                    "autotypenumbers": "strict",
                    "coloraxis": {
                      "colorbar": {
                        "outlinewidth": 0,
                        "ticks": ""
                      }
                    },
                    "colorscale": {
                      "diverging": [
                        [
                          0,
                          "#8e0152"
                        ],
                        [
                          0.1,
                          "#c51b7d"
                        ],
                        [
                          0.2,
                          "#de77ae"
                        ],
                        [
                          0.3,
                          "#f1b6da"
                        ],
                        [
                          0.4,
                          "#fde0ef"
                        ],
                        [
                          0.5,
                          "#f7f7f7"
                        ],
                        [
                          0.6,
                          "#e6f5d0"
                        ],
                        [
                          0.7,
                          "#b8e186"
                        ],
                        [
                          0.8,
                          "#7fbc41"
                        ],
                        [
                          0.9,
                          "#4d9221"
                        ],
                        [
                          1,
                          "#276419"
                        ]
                      ],
                      "sequential": [
                        [
                          0,
                          "#0d0887"
                        ],
                        [
                          0.1111111111111111,
                          "#46039f"
                        ],
                        [
                          0.2222222222222222,
                          "#7201a8"
                        ],
                        [
                          0.3333333333333333,
                          "#9c179e"
                        ],
                        [
                          0.4444444444444444,
                          "#bd3786"
                        ],
                        [
                          0.5555555555555556,
                          "#d8576b"
                        ],
                        [
                          0.6666666666666666,
                          "#ed7953"
                        ],
                        [
                          0.7777777777777778,
                          "#fb9f3a"
                        ],
                        [
                          0.8888888888888888,
                          "#fdca26"
                        ],
                        [
                          1,
                          "#f0f921"
                        ]
                      ],
                      "sequentialminus": [
                        [
                          0,
                          "#0d0887"
                        ],
                        [
                          0.1111111111111111,
                          "#46039f"
                        ],
                        [
                          0.2222222222222222,
                          "#7201a8"
                        ],
                        [
                          0.3333333333333333,
                          "#9c179e"
                        ],
                        [
                          0.4444444444444444,
                          "#bd3786"
                        ],
                        [
                          0.5555555555555556,
                          "#d8576b"
                        ],
                        [
                          0.6666666666666666,
                          "#ed7953"
                        ],
                        [
                          0.7777777777777778,
                          "#fb9f3a"
                        ],
                        [
                          0.8888888888888888,
                          "#fdca26"
                        ],
                        [
                          1,
                          "#f0f921"
                        ]
                      ]
                    },
                    "colorway": [
                      "#636efa",
                      "#EF553B",
                      "#00cc96",
                      "#ab63fa",
                      "#FFA15A",
                      "#19d3f3",
                      "#FF6692",
                      "#B6E880",
                      "#FF97FF",
                      "#FECB52"
                    ],
                    "font": {
                      "color": "#2a3f5f"
                    },
                    "geo": {
                      "bgcolor": "white",
                      "lakecolor": "white",
                      "landcolor": "#E5ECF6",
                      "showlakes": true,
                      "showland": true,
                      "subunitcolor": "white"
                    },
                    "hoverlabel": {
                      "align": "left"
                    },
                    "hovermode": "closest",
                    "mapbox": {
                      "style": "light"
                    },
                    "paper_bgcolor": "white",
                    "plot_bgcolor": "#E5ECF6",
                    "polar": {
                      "angularaxis": {
                        "gridcolor": "white",
                        "linecolor": "white",
                        "ticks": ""
                      },
                      "bgcolor": "#E5ECF6",
                      "radialaxis": {
                        "gridcolor": "white",
                        "linecolor": "white",
                        "ticks": ""
                      }
                    },
                    "scene": {
                      "xaxis": {
                        "backgroundcolor": "#E5ECF6",
                        "gridcolor": "white",
                        "gridwidth": 2,
                        "linecolor": "white",
                        "showbackground": true,
                        "ticks": "",
                        "zerolinecolor": "white"
                      },
                      "yaxis": {
                        "backgroundcolor": "#E5ECF6",
                        "gridcolor": "white",
                        "gridwidth": 2,
                        "linecolor": "white",
                        "showbackground": true,
                        "ticks": "",
                        "zerolinecolor": "white"
                      },
                      "zaxis": {
                        "backgroundcolor": "#E5ECF6",
                        "gridcolor": "white",
                        "gridwidth": 2,
                        "linecolor": "white",
                        "showbackground": true,
                        "ticks": "",
                        "zerolinecolor": "white"
                      }
                    },
                    "shapedefaults": {
                      "line": {
                        "color": "#2a3f5f"
                      }
                    },
                    "ternary": {
                      "aaxis": {
                        "gridcolor": "white",
                        "linecolor": "white",
                        "ticks": ""
                      },
                      "baxis": {
                        "gridcolor": "white",
                        "linecolor": "white",
                        "ticks": ""
                      },
                      "bgcolor": "#E5ECF6",
                      "caxis": {
                        "gridcolor": "white",
                        "linecolor": "white",
                        "ticks": ""
                      }
                    },
                    "title": {
                      "x": 0.05
                    },
                    "xaxis": {
                      "automargin": true,
                      "gridcolor": "white",
                      "linecolor": "white",
                      "ticks": "",
                      "title": {
                        "standoff": 15
                      },
                      "zerolinecolor": "white",
                      "zerolinewidth": 2
                    },
                    "yaxis": {
                      "automargin": true,
                      "gridcolor": "white",
                      "linecolor": "white",
                      "ticks": "",
                      "title": {
                        "standoff": 15
                      },
                      "zerolinecolor": "white",
                      "zerolinewidth": 2
                    }
                  }
                },
                "xaxis": {
                  "anchor": "y",
                  "domain": [
                    0,
                    0.98
                  ],
                  "title": {
                    "text": "message_size"
                  },
                  "type": "log"
                },
                "yaxis": {
                  "anchor": "x",
                  "domain": [
                    0,
                    1
                  ],
                  "title": {
                    "text": "Messages/s vs. Baseline"
                  }
                }
              }
            },
            "text/html": [
              "<div>                            <div id=\"20b95d9e-4ab0-4f17-9c8a-37da292ae85a\" class=\"plotly-graph-div\" style=\"height:525px; width:100%;\"></div>            <script type=\"text/javascript\">                require([\"plotly\"], function(Plotly) {                    window.PLOTLYENV=window.PLOTLYENV || {};                                    if (document.getElementById(\"20b95d9e-4ab0-4f17-9c8a-37da292ae85a\")) {                    Plotly.newPlot(                        \"20b95d9e-4ab0-4f17-9c8a-37da292ae85a\",                        [{\"hovertemplate\":\"test_id=ActorScaling_[monarch] Small refa_d47ab06074d4\\u003cbr\\u003egpus=1\\u003cbr\\u003emessage_size=%{x}\\u003cbr\\u003eMessages\\u002fs vs. Baseline=%{y}\\u003cextra\\u003e\\u003c\\u002fextra\\u003e\",\"legendgroup\":\"ActorScaling_[monarch] Small refa_d47ab06074d4\",\"line\":{\"color\":\"#636efa\",\"dash\":\"solid\"},\"marker\":{\"symbol\":\"circle\"},\"mode\":\"lines\",\"name\":\"ActorScaling_[monarch] Small refa_d47ab06074d4\",\"orientation\":\"v\",\"showlegend\":true,\"x\":[10,100,1000,10000,100000,1000000,10000000,100000000],\"xaxis\":\"x\",\"y\":[1.0,1.0136984149218682,1.018022673955077,1.0524784618390128,1.0,1.0356953285735702,1.0,1.0106370065578538],\"yaxis\":\"y\",\"type\":\"scatter\"},{\"hovertemplate\":\"test_id=ActorScalingMultipart_[monarch] Small refa_d47ab06074d4\\u003cbr\\u003egpus=1\\u003cbr\\u003emessage_size=%{x}\\u003cbr\\u003eMessages\\u002fs vs. Baseline=%{y}\\u003cextra\\u003e\\u003c\\u002fextra\\u003e\",\"legendgroup\":\"ActorScalingMultipart_[monarch] Small refa_d47ab06074d4\",\"line\":{\"color\":\"#EF553B\",\"dash\":\"solid\"},\"marker\":{\"symbol\":\"circle\"},\"mode\":\"lines\",\"name\":\"ActorScalingMultipart_[monarch] Small refa_d47ab06074d4\",\"orientation\":\"v\",\"showlegend\":true,\"x\":[10,100,1000,10000,100000,1000000,10000000,100000000],\"xaxis\":\"x\",\"y\":[1.0009624929411325,1.0,1.0,1.0,1.0319445503685443,1.0337153779480726,1.194352086308308,1.292596476606141],\"yaxis\":\"y\",\"type\":\"scatter\"},{\"hovertemplate\":\"test_id=ActorScaling_[monarch] Use SmolSt_83ef35e1bd39\\u003cbr\\u003egpus=1\\u003cbr\\u003emessage_size=%{x}\\u003cbr\\u003eMessages\\u002fs vs. Baseline=%{y}\\u003cextra\\u003e\\u003c\\u002fextra\\u003e\",\"legendgroup\":\"ActorScaling_[monarch] Use SmolSt_83ef35e1bd39\",\"line\":{\"color\":\"#00cc96\",\"dash\":\"solid\"},\"marker\":{\"symbol\":\"circle\"},\"mode\":\"lines\",\"name\":\"ActorScaling_[monarch] Use SmolSt_83ef35e1bd39\",\"orientation\":\"v\",\"showlegend\":true,\"x\":[10,100,1000,10000,100000,1000000,10000000,100000000],\"xaxis\":\"x\",\"y\":[1.139429760852911,1.094988348223584,1.130780689893296,1.1644055416244494,1.0990558930673069,1.0067650028078972,1.238034142140517,1.0],\"yaxis\":\"y\",\"type\":\"scatter\"},{\"hovertemplate\":\"test_id=ActorScalingMultipart_[monarch] Use SmolSt_83ef35e1bd39\\u003cbr\\u003egpus=1\\u003cbr\\u003emessage_size=%{x}\\u003cbr\\u003eMessages\\u002fs vs. Baseline=%{y}\\u003cextra\\u003e\\u003c\\u002fextra\\u003e\",\"legendgroup\":\"ActorScalingMultipart_[monarch] Use SmolSt_83ef35e1bd39\",\"line\":{\"color\":\"#ab63fa\",\"dash\":\"solid\"},\"marker\":{\"symbol\":\"circle\"},\"mode\":\"lines\",\"name\":\"ActorScalingMultipart_[monarch] Use SmolSt_83ef35e1bd39\",\"orientation\":\"v\",\"showlegend\":true,\"x\":[10,100,1000,10000,100000,1000000,10000000,100000000],\"xaxis\":\"x\",\"y\":[1.1082743705294615,1.0960588233884498,1.1025268459595992,1.0858205166855526,1.1605329550897032,1.10169597875667,1.2025858310600779,1.2421519749622143],\"yaxis\":\"y\",\"type\":\"scatter\"},{\"hovertemplate\":\"test_id=ActorScaling_[monarch] Use consta_34d5605c7607\\u003cbr\\u003egpus=1\\u003cbr\\u003emessage_size=%{x}\\u003cbr\\u003eMessages\\u002fs vs. Baseline=%{y}\\u003cextra\\u003e\\u003c\\u002fextra\\u003e\",\"legendgroup\":\"ActorScaling_[monarch] Use consta_34d5605c7607\",\"line\":{\"color\":\"#FFA15A\",\"dash\":\"solid\"},\"marker\":{\"symbol\":\"circle\"},\"mode\":\"lines\",\"name\":\"ActorScaling_[monarch] Use consta_34d5605c7607\",\"orientation\":\"v\",\"showlegend\":true,\"x\":[10,100,1000,10000,100000,1000000,10000000,100000000],\"xaxis\":\"x\",\"y\":[1.1239149651261608,1.1316028137205572,1.1489180411341025,1.1248443977945652,1.0665698864401028,1.0,1.0081640060052313,1.0401288208614938],\"yaxis\":\"y\",\"type\":\"scatter\"},{\"hovertemplate\":\"test_id=ActorScalingMultipart_[monarch] Use consta_34d5605c7607\\u003cbr\\u003egpus=1\\u003cbr\\u003emessage_size=%{x}\\u003cbr\\u003eMessages\\u002fs vs. Baseline=%{y}\\u003cextra\\u003e\\u003c\\u002fextra\\u003e\",\"legendgroup\":\"ActorScalingMultipart_[monarch] Use consta_34d5605c7607\",\"line\":{\"color\":\"#19d3f3\",\"dash\":\"solid\"},\"marker\":{\"symbol\":\"circle\"},\"mode\":\"lines\",\"name\":\"ActorScalingMultipart_[monarch] Use consta_34d5605c7607\",\"orientation\":\"v\",\"showlegend\":true,\"x\":[10,100,1000,10000,100000,1000000,10000000,100000000],\"xaxis\":\"x\",\"y\":[1.1039429192999703,1.1012776671866737,1.1157248774440924,1.1354213217682227,1.117556607240896,1.03892427233172,1.1939510173327972,1.188288773070294],\"yaxis\":\"y\",\"type\":\"scatter\"},{\"hovertemplate\":\"test_id=ActorScaling_[monarch] Make rust _678349f91d72\\u003cbr\\u003egpus=1\\u003cbr\\u003emessage_size=%{x}\\u003cbr\\u003eMessages\\u002fs vs. Baseline=%{y}\\u003cextra\\u003e\\u003c\\u002fextra\\u003e\",\"legendgroup\":\"ActorScaling_[monarch] Make rust _678349f91d72\",\"line\":{\"color\":\"#FF6692\",\"dash\":\"solid\"},\"marker\":{\"symbol\":\"circle\"},\"mode\":\"lines\",\"name\":\"ActorScaling_[monarch] Make rust _678349f91d72\",\"orientation\":\"v\",\"showlegend\":true,\"x\":[10,100,1000,10000,100000,1000000,10000000,100000000],\"xaxis\":\"x\",\"y\":[1.1152244221497736,1.1094241072036595,1.128518683117431,1.1165972135735156,1.1130284384341769,1.0686514572390193,1.5564681981128747,1.2143403371839228],\"yaxis\":\"y\",\"type\":\"scatter\"},{\"hovertemplate\":\"test_id=ActorScalingMultipart_[monarch] Make rust _678349f91d72\\u003cbr\\u003egpus=1\\u003cbr\\u003emessage_size=%{x}\\u003cbr\\u003eMessages\\u002fs vs. Baseline=%{y}\\u003cextra\\u003e\\u003c\\u002fextra\\u003e\",\"legendgroup\":\"ActorScalingMultipart_[monarch] Make rust _678349f91d72\",\"line\":{\"color\":\"#B6E880\",\"dash\":\"solid\"},\"marker\":{\"symbol\":\"circle\"},\"mode\":\"lines\",\"name\":\"ActorScalingMultipart_[monarch] Make rust _678349f91d72\",\"orientation\":\"v\",\"showlegend\":true,\"x\":[10,100,1000,10000,100000,1000000,10000000,100000000],\"xaxis\":\"x\",\"y\":[1.1240081857058248,1.1015329406460719,1.0872918175233197,1.086977812985268,1.153537225787271,1.2762860377265137,1.6720623509347898,1.9280402379501207],\"yaxis\":\"y\",\"type\":\"scatter\"},{\"hovertemplate\":\"test_id=ActorScaling_Temporary Commit at _b270761e9a45+\\u003cbr\\u003egpus=1\\u003cbr\\u003emessage_size=%{x}\\u003cbr\\u003eMessages\\u002fs vs. Baseline=%{y}\\u003cextra\\u003e\\u003c\\u002fextra\\u003e\",\"legendgroup\":\"ActorScaling_Temporary Commit at _b270761e9a45+\",\"line\":{\"color\":\"#FF97FF\",\"dash\":\"solid\"},\"marker\":{\"symbol\":\"circle\"},\"mode\":\"lines\",\"name\":\"ActorScaling_Temporary Commit at _b270761e9a45+\",\"orientation\":\"v\",\"showlegend\":true,\"x\":[10,100,1000,10000,100000,1000000,10000000,100000000,10,100,1000,10000,100000,1000000,10000000,100000000,10,100,1000,10000,100000,1000000,10000000,100000000,10,100,1000,10,100,1000,10000,100000,1000000,10000000,100000000,10,100,1000,10000,100000,1000000,10000000,100000000,10,10000000,100000000,10000000,100000000],\"xaxis\":\"x\",\"y\":[1.078426157962221,1.1414159970751414,1.1071363459792252,1.1316380502479586,1.1403787351204158,1.0991965315118277,1.2762062448721108,1.1195684288957461,1.0838399357999235,1.1080504255630612,1.1226773306795874,1.1020010380078253,1.0907956057362493,1.0876030871557498,1.2578113405789197,1.1557731456709002,1.0551641267589071,1.1500523019369182,1.1323369818253888,1.1168978703514016,1.135448713776019,1.1497807935404045,1.330377414414465,1.1111238103273047,1.1079994979022176,1.0966402326114129,1.1156384565508055,1.1074223446640978,1.0199952787630324,1.1043056678457495,1.1041552130386036,1.116692355733067,1.0845639323349923,1.279306583497608,1.1231012610588422,1.080673392989181,1.1117536039782594,1.1097647986969572,1.117852859381368,1.1361765184838357,1.0699644011230476,1.393766674905505,1.1102986672276227,1.1225219587028379,1.397930743534897,1.1602214359817231,1.3002897781010407,1.123166667814094],\"yaxis\":\"y\",\"type\":\"scatter\"},{\"hovertemplate\":\"test_id=ActorScalingMultipart_Temporary Commit at _b270761e9a45+\\u003cbr\\u003egpus=1\\u003cbr\\u003emessage_size=%{x}\\u003cbr\\u003eMessages\\u002fs vs. Baseline=%{y}\\u003cextra\\u003e\\u003c\\u002fextra\\u003e\",\"legendgroup\":\"ActorScalingMultipart_Temporary Commit at _b270761e9a45+\",\"line\":{\"color\":\"#FECB52\",\"dash\":\"solid\"},\"marker\":{\"symbol\":\"circle\"},\"mode\":\"lines\",\"name\":\"ActorScalingMultipart_Temporary Commit at _b270761e9a45+\",\"orientation\":\"v\",\"showlegend\":true,\"x\":[10,100,1000,10000,100000,1000000,10000000,100000000,10,100,1000,10000,100000,1000000,10000000,100000000,10,100,1000,10000,100000,1000000,10000000,100000000,10,100,10,100,1000,10000,100000,1000000,10000000,100000000,10,100,1000,10000,100000,1000000,10000000,100000000,10000000,100000000,10000000,100000000],\"xaxis\":\"x\",\"y\":[1.100363000683898,1.0877740064062265,1.0917383441540356,1.0986488102649794,1.1825685625504303,1.2324887221318277,1.7171745744513143,1.7327828204325175,1.0858316955293283,1.0577868011117726,1.092819657712046,1.1023686369085994,1.1469806564317917,1.2353257119001246,1.8321300200575747,1.783661683556537,1.073911329196655,1.0971763824420688,1.1092495230013644,1.100679323559353,1.1950412970855149,1.1905149427945387,1.7650339037059775,1.7568148170585223,1.1051117802295205,1.0951478631631928,1.0866748655274732,1.0843891588789036,1.1078796595992002,1.1212055321021228,1.1459482666388423,1.1854363852999144,1.5966502972800916,1.7688626518773847,1.07704944609246,1.1096190547527984,1.0915093120843922,1.080455830667184,1.1553043490801616,1.1625164171097637,1.4965596354055728,1.8143251411866295,1.6983845838255782,1.7443404824520539,1.7995292512572898,1.7215114899684718],\"yaxis\":\"y\",\"type\":\"scatter\"}],                        {\"template\":{\"data\":{\"histogram2dcontour\":[{\"type\":\"histogram2dcontour\",\"colorbar\":{\"outlinewidth\":0,\"ticks\":\"\"},\"colorscale\":[[0.0,\"#0d0887\"],[0.1111111111111111,\"#46039f\"],[0.2222222222222222,\"#7201a8\"],[0.3333333333333333,\"#9c179e\"],[0.4444444444444444,\"#bd3786\"],[0.5555555555555556,\"#d8576b\"],[0.6666666666666666,\"#ed7953\"],[0.7777777777777778,\"#fb9f3a\"],[0.8888888888888888,\"#fdca26\"],[1.0,\"#f0f921\"]]}],\"choropleth\":[{\"type\":\"choropleth\",\"colorbar\":{\"outlinewidth\":0,\"ticks\":\"\"}}],\"histogram2d\":[{\"type\":\"histogram2d\",\"colorbar\":{\"outlinewidth\":0,\"ticks\":\"\"},\"colorscale\":[[0.0,\"#0d0887\"],[0.1111111111111111,\"#46039f\"],[0.2222222222222222,\"#7201a8\"],[0.3333333333333333,\"#9c179e\"],[0.4444444444444444,\"#bd3786\"],[0.5555555555555556,\"#d8576b\"],[0.6666666666666666,\"#ed7953\"],[0.7777777777777778,\"#fb9f3a\"],[0.8888888888888888,\"#fdca26\"],[1.0,\"#f0f921\"]]}],\"heatmap\":[{\"type\":\"heatmap\",\"colorbar\":{\"outlinewidth\":0,\"ticks\":\"\"},\"colorscale\":[[0.0,\"#0d0887\"],[0.1111111111111111,\"#46039f\"],[0.2222222222222222,\"#7201a8\"],[0.3333333333333333,\"#9c179e\"],[0.4444444444444444,\"#bd3786\"],[0.5555555555555556,\"#d8576b\"],[0.6666666666666666,\"#ed7953\"],[0.7777777777777778,\"#fb9f3a\"],[0.8888888888888888,\"#fdca26\"],[1.0,\"#f0f921\"]]}],\"heatmapgl\":[{\"type\":\"heatmapgl\",\"colorbar\":{\"outlinewidth\":0,\"ticks\":\"\"},\"colorscale\":[[0.0,\"#0d0887\"],[0.1111111111111111,\"#46039f\"],[0.2222222222222222,\"#7201a8\"],[0.3333333333333333,\"#9c179e\"],[0.4444444444444444,\"#bd3786\"],[0.5555555555555556,\"#d8576b\"],[0.6666666666666666,\"#ed7953\"],[0.7777777777777778,\"#fb9f3a\"],[0.8888888888888888,\"#fdca26\"],[1.0,\"#f0f921\"]]}],\"contourcarpet\":[{\"type\":\"contourcarpet\",\"colorbar\":{\"outlinewidth\":0,\"ticks\":\"\"}}],\"contour\":[{\"type\":\"contour\",\"colorbar\":{\"outlinewidth\":0,\"ticks\":\"\"},\"colorscale\":[[0.0,\"#0d0887\"],[0.1111111111111111,\"#46039f\"],[0.2222222222222222,\"#7201a8\"],[0.3333333333333333,\"#9c179e\"],[0.4444444444444444,\"#bd3786\"],[0.5555555555555556,\"#d8576b\"],[0.6666666666666666,\"#ed7953\"],[0.7777777777777778,\"#fb9f3a\"],[0.8888888888888888,\"#fdca26\"],[1.0,\"#f0f921\"]]}],\"surface\":[{\"type\":\"surface\",\"colorbar\":{\"outlinewidth\":0,\"ticks\":\"\"},\"colorscale\":[[0.0,\"#0d0887\"],[0.1111111111111111,\"#46039f\"],[0.2222222222222222,\"#7201a8\"],[0.3333333333333333,\"#9c179e\"],[0.4444444444444444,\"#bd3786\"],[0.5555555555555556,\"#d8576b\"],[0.6666666666666666,\"#ed7953\"],[0.7777777777777778,\"#fb9f3a\"],[0.8888888888888888,\"#fdca26\"],[1.0,\"#f0f921\"]]}],\"mesh3d\":[{\"type\":\"mesh3d\",\"colorbar\":{\"outlinewidth\":0,\"ticks\":\"\"}}],\"scatter\":[{\"fillpattern\":{\"fillmode\":\"overlay\",\"size\":10,\"solidity\":0.2},\"type\":\"scatter\"}],\"parcoords\":[{\"type\":\"parcoords\",\"line\":{\"colorbar\":{\"outlinewidth\":0,\"ticks\":\"\"}}}],\"scatterpolargl\":[{\"type\":\"scatterpolargl\",\"marker\":{\"colorbar\":{\"outlinewidth\":0,\"ticks\":\"\"}}}],\"bar\":[{\"error_x\":{\"color\":\"#2a3f5f\"},\"error_y\":{\"color\":\"#2a3f5f\"},\"marker\":{\"line\":{\"color\":\"#E5ECF6\",\"width\":0.5},\"pattern\":{\"fillmode\":\"overlay\",\"size\":10,\"solidity\":0.2}},\"type\":\"bar\"}],\"scattergeo\":[{\"type\":\"scattergeo\",\"marker\":{\"colorbar\":{\"outlinewidth\":0,\"ticks\":\"\"}}}],\"scatterpolar\":[{\"type\":\"scatterpolar\",\"marker\":{\"colorbar\":{\"outlinewidth\":0,\"ticks\":\"\"}}}],\"histogram\":[{\"marker\":{\"pattern\":{\"fillmode\":\"overlay\",\"size\":10,\"solidity\":0.2}},\"type\":\"histogram\"}],\"scattergl\":[{\"type\":\"scattergl\",\"marker\":{\"colorbar\":{\"outlinewidth\":0,\"ticks\":\"\"}}}],\"scatter3d\":[{\"type\":\"scatter3d\",\"line\":{\"colorbar\":{\"outlinewidth\":0,\"ticks\":\"\"}},\"marker\":{\"colorbar\":{\"outlinewidth\":0,\"ticks\":\"\"}}}],\"scattermapbox\":[{\"type\":\"scattermapbox\",\"marker\":{\"colorbar\":{\"outlinewidth\":0,\"ticks\":\"\"}}}],\"scatterternary\":[{\"type\":\"scatterternary\",\"marker\":{\"colorbar\":{\"outlinewidth\":0,\"ticks\":\"\"}}}],\"scattercarpet\":[{\"type\":\"scattercarpet\",\"marker\":{\"colorbar\":{\"outlinewidth\":0,\"ticks\":\"\"}}}],\"carpet\":[{\"aaxis\":{\"endlinecolor\":\"#2a3f5f\",\"gridcolor\":\"white\",\"linecolor\":\"white\",\"minorgridcolor\":\"white\",\"startlinecolor\":\"#2a3f5f\"},\"baxis\":{\"endlinecolor\":\"#2a3f5f\",\"gridcolor\":\"white\",\"linecolor\":\"white\",\"minorgridcolor\":\"white\",\"startlinecolor\":\"#2a3f5f\"},\"type\":\"carpet\"}],\"table\":[{\"cells\":{\"fill\":{\"color\":\"#EBF0F8\"},\"line\":{\"color\":\"white\"}},\"header\":{\"fill\":{\"color\":\"#C8D4E3\"},\"line\":{\"color\":\"white\"}},\"type\":\"table\"}],\"barpolar\":[{\"marker\":{\"line\":{\"color\":\"#E5ECF6\",\"width\":0.5},\"pattern\":{\"fillmode\":\"overlay\",\"size\":10,\"solidity\":0.2}},\"type\":\"barpolar\"}],\"pie\":[{\"automargin\":true,\"type\":\"pie\"}]},\"layout\":{\"autotypenumbers\":\"strict\",\"colorway\":[\"#636efa\",\"#EF553B\",\"#00cc96\",\"#ab63fa\",\"#FFA15A\",\"#19d3f3\",\"#FF6692\",\"#B6E880\",\"#FF97FF\",\"#FECB52\"],\"font\":{\"color\":\"#2a3f5f\"},\"hovermode\":\"closest\",\"hoverlabel\":{\"align\":\"left\"},\"paper_bgcolor\":\"white\",\"plot_bgcolor\":\"#E5ECF6\",\"polar\":{\"bgcolor\":\"#E5ECF6\",\"angularaxis\":{\"gridcolor\":\"white\",\"linecolor\":\"white\",\"ticks\":\"\"},\"radialaxis\":{\"gridcolor\":\"white\",\"linecolor\":\"white\",\"ticks\":\"\"}},\"ternary\":{\"bgcolor\":\"#E5ECF6\",\"aaxis\":{\"gridcolor\":\"white\",\"linecolor\":\"white\",\"ticks\":\"\"},\"baxis\":{\"gridcolor\":\"white\",\"linecolor\":\"white\",\"ticks\":\"\"},\"caxis\":{\"gridcolor\":\"white\",\"linecolor\":\"white\",\"ticks\":\"\"}},\"coloraxis\":{\"colorbar\":{\"outlinewidth\":0,\"ticks\":\"\"}},\"colorscale\":{\"sequential\":[[0.0,\"#0d0887\"],[0.1111111111111111,\"#46039f\"],[0.2222222222222222,\"#7201a8\"],[0.3333333333333333,\"#9c179e\"],[0.4444444444444444,\"#bd3786\"],[0.5555555555555556,\"#d8576b\"],[0.6666666666666666,\"#ed7953\"],[0.7777777777777778,\"#fb9f3a\"],[0.8888888888888888,\"#fdca26\"],[1.0,\"#f0f921\"]],\"sequentialminus\":[[0.0,\"#0d0887\"],[0.1111111111111111,\"#46039f\"],[0.2222222222222222,\"#7201a8\"],[0.3333333333333333,\"#9c179e\"],[0.4444444444444444,\"#bd3786\"],[0.5555555555555556,\"#d8576b\"],[0.6666666666666666,\"#ed7953\"],[0.7777777777777778,\"#fb9f3a\"],[0.8888888888888888,\"#fdca26\"],[1.0,\"#f0f921\"]],\"diverging\":[[0,\"#8e0152\"],[0.1,\"#c51b7d\"],[0.2,\"#de77ae\"],[0.3,\"#f1b6da\"],[0.4,\"#fde0ef\"],[0.5,\"#f7f7f7\"],[0.6,\"#e6f5d0\"],[0.7,\"#b8e186\"],[0.8,\"#7fbc41\"],[0.9,\"#4d9221\"],[1,\"#276419\"]]},\"xaxis\":{\"gridcolor\":\"white\",\"linecolor\":\"white\",\"ticks\":\"\",\"title\":{\"standoff\":15},\"zerolinecolor\":\"white\",\"automargin\":true,\"zerolinewidth\":2},\"yaxis\":{\"gridcolor\":\"white\",\"linecolor\":\"white\",\"ticks\":\"\",\"title\":{\"standoff\":15},\"zerolinecolor\":\"white\",\"automargin\":true,\"zerolinewidth\":2},\"scene\":{\"xaxis\":{\"backgroundcolor\":\"#E5ECF6\",\"gridcolor\":\"white\",\"linecolor\":\"white\",\"showbackground\":true,\"ticks\":\"\",\"zerolinecolor\":\"white\",\"gridwidth\":2},\"yaxis\":{\"backgroundcolor\":\"#E5ECF6\",\"gridcolor\":\"white\",\"linecolor\":\"white\",\"showbackground\":true,\"ticks\":\"\",\"zerolinecolor\":\"white\",\"gridwidth\":2},\"zaxis\":{\"backgroundcolor\":\"#E5ECF6\",\"gridcolor\":\"white\",\"linecolor\":\"white\",\"showbackground\":true,\"ticks\":\"\",\"zerolinecolor\":\"white\",\"gridwidth\":2}},\"shapedefaults\":{\"line\":{\"color\":\"#2a3f5f\"}},\"annotationdefaults\":{\"arrowcolor\":\"#2a3f5f\",\"arrowhead\":0,\"arrowwidth\":1},\"geo\":{\"bgcolor\":\"white\",\"landcolor\":\"#E5ECF6\",\"subunitcolor\":\"white\",\"showland\":true,\"showlakes\":true,\"lakecolor\":\"white\"},\"title\":{\"x\":0.05},\"mapbox\":{\"style\":\"light\"}}},\"xaxis\":{\"anchor\":\"y\",\"domain\":[0.0,0.98],\"title\":{\"text\":\"message_size\"},\"type\":\"log\"},\"yaxis\":{\"anchor\":\"x\",\"domain\":[0.0,1.0],\"title\":{\"text\":\"Messages\\u002fs vs. Baseline\"}},\"annotations\":[{\"font\":{},\"showarrow\":false,\"text\":\"gpus=1\",\"textangle\":90,\"x\":0.98,\"xanchor\":\"left\",\"xref\":\"paper\",\"y\":0.5,\"yanchor\":\"middle\",\"yref\":\"paper\"}],\"legend\":{\"title\":{\"text\":\"test_id\"},\"tracegroupgap\":0},\"margin\":{\"t\":60}},                        {\"responsive\": true}                    ).then(function(){\n",
              "                            \n",
              "var gd = document.getElementById('20b95d9e-4ab0-4f17-9c8a-37da292ae85a');\n",
              "var x = new MutationObserver(function (mutations, observer) {{\n",
              "        var display = window.getComputedStyle(gd).display;\n",
              "        if (!display || display === 'none') {{\n",
              "            console.log([gd, 'removed!']);\n",
              "            Plotly.purge(gd);\n",
              "            observer.disconnect();\n",
              "        }}\n",
              "}});\n",
              "\n",
              "// Listen for the removal of the full notebook cells\n",
              "var notebookContainer = gd.closest('#notebook-container');\n",
              "if (notebookContainer) {{\n",
              "    x.observe(notebookContainer, {childList: true});\n",
              "}}\n",
              "\n",
              "// Listen for the clearing of the current output cell\n",
              "var outputEl = gd.closest('.output');\n",
              "if (outputEl) {{\n",
              "    x.observe(outputEl, {childList: true});\n",
              "}}\n",
              "\n",
              "                        })                };                });            </script>        </div>"
            ]
          },
          "metadata": {},
          "output_type": "display_data"
        }
      ],
      "source": [
        "px.line(\n",
        "    mps_ratio,\n",
        "    x=\"message_size\",\n",
        "    y=\"mps_norm\",\n",
        "    facet_row=\"gpus\",\n",
        "    color=\"test_id\",\n",
        "    labels={\"mps_norm\": \"Messages/s vs. Baseline\"},\n",
        "    log_x=True,\n",
        ")"
      ]
    },
    {
      "cell_type": "code",
      "execution_count": 1197,
      "metadata": {},
      "outputs": [],
      "source": []
    },
    {
      "cell_type": "code",
      "execution_count": null,
      "metadata": {},
      "outputs": [],
      "source": []
    },
    {
      "cell_type": "code",
      "execution_count": null,
      "metadata": {},
      "outputs": [],
      "source": []
    },
    {
      "cell_type": "code",
      "execution_count": null,
      "metadata": {},
      "outputs": [],
      "source": []
    }
  ],
  "metadata": {
    "fileHeader": "",
    "fileUid": "c88e943b-1d95-4721-8d7d-603ebcabfd02",
    "isAdHoc": false,
    "language_info": {
      "name": "plaintext"
    },
    "orig_nbformat": 4
  },
  "nbformat": 4,
  "nbformat_minor": 2
}
